{
  "nbformat": 4,
  "nbformat_minor": 0,
  "metadata": {
    "colab": {
      "provenance": []
    },
    "kernelspec": {
      "name": "python3",
      "display_name": "Python 3"
    },
    "language_info": {
      "name": "python"
    }
  },
  "cells": [
    {
      "cell_type": "code",
      "execution_count": null,
      "metadata": {
        "id": "03YsW5eEeVz5"
      },
      "outputs": [],
      "source": [
        "import numpy as np\n",
        "import pandas as pd\n",
        "import matplotlib.pyplot as plt"
      ]
    },
    {
      "cell_type": "markdown",
      "source": [
        "**1. Formulate this as one of the discrete optimization problems you learnt in IE 684. Clearly describe the formulation with explicitly listing the variables, objective function and constraints**"
      ],
      "metadata": {
        "id": "26C_URo_LLxY"
      }
    },
    {
      "cell_type": "markdown",
      "source": [
        "Let xi represent the number of boxes of type i produced, where xi is a non-negative integer xi ∈ ℕ ∪ {0}.\n",
        "\n",
        "Let yi be a binary variable indicating whether any boxes of type i are produced. yi = 1 if xi > 0, and yi = 0 otherwise.\n",
        "\n",
        "This constraint can be enforced using the big M method, meaning:\n",
        "\n",
        "  xi ≤ M * yi    for i = 1, 2, ..., 6\n",
        "Where M is sufficiently large.\n",
        "\n",
        "Let vi be the volume of box type i. Then the objective function becomes:\n",
        "\n",
        "  minimize   ∑(i=1 to 6) (1500 * yi + 100 * vi * xi)\n",
        "\n",
        "The constraints, including the big M method:\n",
        "\n",
        "1. The demand should be met:\n",
        "   xi ≥ di    for all i = 1, 2, ..., 6\n",
        "Where di is the demand for box type i.\n",
        "\n",
        "2. xi ≤ M * yi    for i = 1, 2, ..., 6\n"
      ],
      "metadata": {
        "id": "KPwgp1WjLlsR"
      }
    },
    {
      "cell_type": "code",
      "source": [],
      "metadata": {
        "id": "oxAjOi_PHfcg"
      },
      "execution_count": null,
      "outputs": []
    },
    {
      "cell_type": "markdown",
      "source": [
        "**2. Solve it using an algorithm you have used previously in IE 684 Lab. List a table of the optimal number of boxes\n",
        "of each size and state the optimal cost. Don’t use solver.**"
      ],
      "metadata": {
        "id": "PeTyrwgtIgJE"
      }
    },
    {
      "cell_type": "code",
      "source": [
        "# Define the demand, volume, and selling price of each box\n",
        "boxes = [\n",
        "    {\"demand\": 300, \"volume\": 0.15, \"price\": 300},\n",
        "    {\"demand\": 450, \"volume\": 0.25, \"price\": 300},\n",
        "    {\"demand\": 80, \"volume\": 0.35, \"price\": 350},\n",
        "    {\"demand\": 500, \"volume\": 0.5, \"price\": 500},\n",
        "    {\"demand\": 150, \"volume\": 0.6, \"price\": 600},\n",
        "    {\"demand\": 800, \"volume\": 0.75, \"price\": 800}\n",
        "]\n",
        "\n",
        "# Sort the boxes by volume in descending order\n",
        "sorted_boxes = sorted(boxes, key=lambda x: x[\"volume\"], reverse=True)\n",
        "\n",
        "# Initialize variables\n",
        "produced_boxes = [0, 0, 0, 0, 0, 0]  # Number of boxes produced for each size\n",
        "total_cost = 0\n",
        "\n",
        "# Greedy algorithm to produce boxes\n",
        "for box in sorted_boxes:\n",
        "    index = boxes.index(box)\n",
        "    demand = box[\"demand\"]\n",
        "    volume = box[\"volume\"]\n",
        "    variable_cost = 100 * volume\n",
        "    fixed_cost = 1500\n",
        "    available_demand = min(demand, produced_boxes[index - 1])  # Use boxes of larger size to satisfy demand\n",
        "    produced_boxes[index] = demand - available_demand  # Produce remaining boxes to meet demand\n",
        "    total_cost += (variable_cost * produced_boxes[index]) + (fixed_cost * produced_boxes[index])\n",
        "\n",
        "# Output the optimal number of boxes and total cost\n",
        "print(\"Optimal Number of Boxes Produced for Each Size:\", produced_boxes)\n",
        "print(\"Optimal Total Cost:\", total_cost)\n"
      ],
      "metadata": {
        "colab": {
          "base_uri": "https://localhost:8080/"
        },
        "id": "MXSAkU0YHfZk",
        "outputId": "f28f48b6-81e8-4ff6-bf29-5406204618a1"
      },
      "execution_count": null,
      "outputs": [
        {
          "output_type": "stream",
          "name": "stdout",
          "text": [
            "Optimal Number of Boxes Produced for Each Size: [0, 450, 80, 500, 150, 800]\n",
            "Optimal Total Cost: 3078050.0\n"
          ]
        }
      ]
    },
    {
      "cell_type": "markdown",
      "source": [
        "**3. Suppose only 1000 cubic meter of space is available for transport for Flipbakox company. So they may not be able\n",
        "to fulfill whole demand. Instead they would want to maximize their profit. Formulate this as an optimization\n",
        "problem. Clearly describe the formulation with explicitly listing the variables, objective function and constraints.**"
      ],
      "metadata": {
        "id": "1EhXQ4DzIvfw"
      }
    },
    {
      "cell_type": "markdown",
      "source": [
        "Let xi represent the number of boxes of type i produced, where xi is a non-negative integer xi ∈ ℕ ∪ {0}.\n",
        "\n",
        "Let yi be a binary variable denoting the production status of box type i, where yi = 1 if xi > 0, and yi = 0 otherwise.\n",
        "\n",
        "The price of product xi is denoted by pi. The volume of box type i is represented by vi.\n",
        "\n",
        "To enforce the production constraints using the big M method, the following inequality applies:\n",
        "  xi ≤ M * yi    for i = 1, 2, ..., 6\n",
        "where M is a sufficiently large constant.\n",
        "\n",
        "The objective function aims to maximize profit, considering the selling price and the cost of manufacturing:\n",
        "\n",
        "  maximize   ∑(i=1 to 6) (pi * xi - (1500 * yi + 100 * vi * xi))\n",
        "\n",
        "Under the following constraints:\n",
        "\n",
        "1. The total volume of produced boxes must not exceed 1000:\n",
        "   ∑(j=1 to 6) (xj * vj) ≤ 1000\n",
        "\n",
        "2. The big M method constraint for each type of box:\n",
        "   xi ≤ M * yi    for i = 1, 2, ..., 6\n"
      ],
      "metadata": {
        "id": "sRosjmE8boJE"
      }
    },
    {
      "cell_type": "markdown",
      "source": [
        "**4. Solve the problem. You can use a solver. Write, explain and interpret the results. Your answer should clearly\n",
        "explain how many boxes of each type is required to be transported.**"
      ],
      "metadata": {
        "id": "8T_13_OXd0al"
      }
    },
    {
      "cell_type": "code",
      "source": [
        "boxes = [[1, 300, 0.15, 300],\n",
        "  [2,450,0.25,300],\n",
        "  [3 ,80 ,0.35, 350],\n",
        "  [4 ,500 ,0.5 ,500],\n",
        "  [5 ,150 ,0.6, 600],\n",
        "  [6 ,800 ,0.75 ,800]]\n",
        "demand_in_vol = []\n",
        "box_no = []\n",
        "vol_per_box  = []\n",
        "price = []\n",
        "demand = []\n",
        "for ele in boxes:\n",
        "  demand_in_vol.append(ele[1]*ele[2])\n",
        "  box_no.append(ele[0])\n",
        "  vol_per_box.append(ele[2])\n",
        "  price.append(100*ele[2]+ele[3]+1500)\n",
        "  demand.append(ele[1])"
      ],
      "metadata": {
        "id": "abovXn8TeFdl"
      },
      "execution_count": null,
      "outputs": []
    },
    {
      "cell_type": "code",
      "source": [
        "price"
      ],
      "metadata": {
        "colab": {
          "base_uri": "https://localhost:8080/"
        },
        "id": "hehdc7uEeNfO",
        "outputId": "11378e3d-2f07-4dde-e415-720855f301ee"
      },
      "execution_count": null,
      "outputs": [
        {
          "output_type": "execute_result",
          "data": {
            "text/plain": [
              "[1815.0, 1825.0, 1885.0, 2050.0, 2160.0, 2375.0]"
            ]
          },
          "metadata": {},
          "execution_count": 31
        }
      ]
    },
    {
      "cell_type": "code",
      "source": [
        "model = ConcreteModel()\n",
        "model.x = Var(range(6), domain = NonNegativeIntegers)\n",
        "model.y = Var(range(6), domain = Binary)\n",
        "model.obj = Objective(expr = sum(( (price[i] - 100*volume[i])*model.x[i] - 1500*model.y[i] )for i in range(6)), sense = maximize)\n",
        "\n",
        "model.constraints = ConstraintList()\n",
        "model.constraints.add(expr = sum(model.x[i]*volume[i] for i in range(6)) <= 1000)\n",
        "for i in range(6):\n",
        "  model.constraints.add(expr = model.x[i] <= M*model.y[i])\n",
        "\n",
        "result = SolverFactory('glpk', executable='/usr/bin/glpsol').solve(model)\n",
        "model.pprint()"
      ],
      "metadata": {
        "id": "cxdQE556HfUD"
      },
      "execution_count": null,
      "outputs": []
    },
    {
      "cell_type": "code",
      "source": [],
      "metadata": {
        "id": "8akbPJE3HfRh"
      },
      "execution_count": null,
      "outputs": []
    },
    {
      "cell_type": "code",
      "source": [],
      "metadata": {
        "id": "zzUy36cYHfOs"
      },
      "execution_count": null,
      "outputs": []
    },
    {
      "cell_type": "code",
      "source": [],
      "metadata": {
        "id": "xp3yr-iRHfMF"
      },
      "execution_count": null,
      "outputs": []
    },
    {
      "cell_type": "code",
      "source": [],
      "metadata": {
        "id": "lCMzJH8XHfJe"
      },
      "execution_count": null,
      "outputs": []
    },
    {
      "cell_type": "code",
      "source": [],
      "metadata": {
        "id": "qYaEVq7qHfG6"
      },
      "execution_count": null,
      "outputs": []
    },
    {
      "cell_type": "code",
      "source": [],
      "metadata": {
        "id": "J6KEB0Y5HfEe"
      },
      "execution_count": null,
      "outputs": []
    },
    {
      "cell_type": "code",
      "source": [],
      "metadata": {
        "id": "yMn95OO4HfCA"
      },
      "execution_count": null,
      "outputs": []
    },
    {
      "cell_type": "code",
      "source": [],
      "metadata": {
        "id": "Oyr-i18KHe_U"
      },
      "execution_count": null,
      "outputs": []
    },
    {
      "cell_type": "code",
      "source": [],
      "metadata": {
        "id": "iXKMF_RnHe8v"
      },
      "execution_count": null,
      "outputs": []
    },
    {
      "cell_type": "code",
      "source": [],
      "metadata": {
        "id": "OCZdPJhjHe6L"
      },
      "execution_count": null,
      "outputs": []
    },
    {
      "cell_type": "code",
      "source": [],
      "metadata": {
        "id": "PIa4GZ4_He3n"
      },
      "execution_count": null,
      "outputs": []
    },
    {
      "cell_type": "code",
      "source": [],
      "metadata": {
        "id": "0gabplgqHe1H"
      },
      "execution_count": null,
      "outputs": []
    },
    {
      "cell_type": "code",
      "source": [],
      "metadata": {
        "id": "_rhaEodDHeyu"
      },
      "execution_count": null,
      "outputs": []
    },
    {
      "cell_type": "code",
      "source": [
        "!pip install -q pyomo\n",
        "!apt-get install -y -qq glpk-utils"
      ],
      "metadata": {
        "colab": {
          "base_uri": "https://localhost:8080/"
        },
        "id": "dlVoEdWi8XoJ",
        "outputId": "78bca8e3-3440-4751-9080-57979541bad1"
      },
      "execution_count": null,
      "outputs": [
        {
          "output_type": "stream",
          "name": "stdout",
          "text": [
            "\u001b[2K     \u001b[90m━━━━━━━━━━━━━━━━━━━━━━━━━━━━━━━━━━━━━━━━\u001b[0m \u001b[32m12.7/12.7 MB\u001b[0m \u001b[31m55.6 MB/s\u001b[0m eta \u001b[36m0:00:00\u001b[0m\n",
            "\u001b[2K     \u001b[90m━━━━━━━━━━━━━━━━━━━━━━━━━━━━━━━━━━━━━━━━\u001b[0m \u001b[32m49.6/49.6 kB\u001b[0m \u001b[31m6.1 MB/s\u001b[0m eta \u001b[36m0:00:00\u001b[0m\n",
            "\u001b[?25hSelecting previously unselected package libsuitesparseconfig5:amd64.\n",
            "(Reading database ... 121753 files and directories currently installed.)\n",
            "Preparing to unpack .../libsuitesparseconfig5_1%3a5.10.1+dfsg-4build1_amd64.deb ...\n",
            "Unpacking libsuitesparseconfig5:amd64 (1:5.10.1+dfsg-4build1) ...\n",
            "Selecting previously unselected package libamd2:amd64.\n",
            "Preparing to unpack .../libamd2_1%3a5.10.1+dfsg-4build1_amd64.deb ...\n",
            "Unpacking libamd2:amd64 (1:5.10.1+dfsg-4build1) ...\n",
            "Selecting previously unselected package libcolamd2:amd64.\n",
            "Preparing to unpack .../libcolamd2_1%3a5.10.1+dfsg-4build1_amd64.deb ...\n",
            "Unpacking libcolamd2:amd64 (1:5.10.1+dfsg-4build1) ...\n",
            "Selecting previously unselected package libglpk40:amd64.\n",
            "Preparing to unpack .../libglpk40_5.0-1_amd64.deb ...\n",
            "Unpacking libglpk40:amd64 (5.0-1) ...\n",
            "Selecting previously unselected package glpk-utils.\n",
            "Preparing to unpack .../glpk-utils_5.0-1_amd64.deb ...\n",
            "Unpacking glpk-utils (5.0-1) ...\n",
            "Setting up libsuitesparseconfig5:amd64 (1:5.10.1+dfsg-4build1) ...\n",
            "Setting up libamd2:amd64 (1:5.10.1+dfsg-4build1) ...\n",
            "Setting up libcolamd2:amd64 (1:5.10.1+dfsg-4build1) ...\n",
            "Setting up libglpk40:amd64 (5.0-1) ...\n",
            "Setting up glpk-utils (5.0-1) ...\n",
            "Processing triggers for man-db (2.10.2-1) ...\n",
            "Processing triggers for libc-bin (2.35-0ubuntu3.4) ...\n",
            "/sbin/ldconfig.real: /usr/local/lib/libtbbbind.so.3 is not a symbolic link\n",
            "\n",
            "/sbin/ldconfig.real: /usr/local/lib/libtbbmalloc_proxy.so.2 is not a symbolic link\n",
            "\n",
            "/sbin/ldconfig.real: /usr/local/lib/libtbb.so.12 is not a symbolic link\n",
            "\n",
            "/sbin/ldconfig.real: /usr/local/lib/libtbbbind_2_0.so.3 is not a symbolic link\n",
            "\n",
            "/sbin/ldconfig.real: /usr/local/lib/libtbbmalloc.so.2 is not a symbolic link\n",
            "\n",
            "/sbin/ldconfig.real: /usr/local/lib/libtbbbind_2_5.so.3 is not a symbolic link\n",
            "\n"
          ]
        }
      ]
    },
    {
      "cell_type": "code",
      "source": [
        "from pyomo.environ import *"
      ],
      "metadata": {
        "id": "BSRio9Hy8a1X"
      },
      "execution_count": null,
      "outputs": []
    },
    {
      "cell_type": "code",
      "source": [
        "boxes = [[1, 300, 0.15, 300],\n",
        "  [2,450,0.25,300],\n",
        "  [3 ,80 ,0.35, 350],\n",
        "  [4 ,500 ,0.5 ,500],\n",
        "  [5 ,150 ,0.6, 600],\n",
        "  [6 ,800 ,0.75 ,800]]\n"
      ],
      "metadata": {
        "id": "FiGCKh6uP96y"
      },
      "execution_count": null,
      "outputs": []
    },
    {
      "cell_type": "code",
      "source": [
        "demand_in_vol = []\n",
        "box_no = []\n",
        "vol_per_box  = []\n",
        "price = []\n",
        "\n",
        "for ele in boxes:\n",
        "  demand_in_vol.append(ele[1]*ele[2])\n",
        "  box_no.append(ele[0])\n",
        "  vol_per_box.append(ele[2])\n",
        "  price.append(100*ele[2]+ele[3]+1500)"
      ],
      "metadata": {
        "id": "wIl9xBNn55E9"
      },
      "execution_count": null,
      "outputs": []
    },
    {
      "cell_type": "code",
      "source": [
        "demand_in_vol"
      ],
      "metadata": {
        "colab": {
          "base_uri": "https://localhost:8080/"
        },
        "id": "iyVKFZax60Dw",
        "outputId": "0fec4f42-7d5c-492e-9418-bfb6de84b85b"
      },
      "execution_count": null,
      "outputs": [
        {
          "output_type": "execute_result",
          "data": {
            "text/plain": [
              "[45.0, 112.5, 28.0, 250.0, 90.0, 600.0]"
            ]
          },
          "metadata": {},
          "execution_count": 7
        }
      ]
    },
    {
      "cell_type": "code",
      "source": [
        "model = ConcreteModel()\n",
        "model.y = Var(range(6), domain = NonNegativeIntegers)\n",
        "model.obj = Objective(expr = sum(model.y[i]*price[i] for i in range(6)), sense = minimize)\n",
        "\n",
        "model.constraints = ConstraintList()\n",
        "for i in range(6):\n",
        "          model.constraints.add(expr = sum(model.y[i]*vol_per_box[i] for i in range(6)) >= sum(demand_in_vol))\n",
        "\n",
        "result = SolverFactory('glpk', executable='/usr/bin/glpsol').solve(model)"
      ],
      "metadata": {
        "id": "3dArOZBt68AS"
      },
      "execution_count": null,
      "outputs": []
    },
    {
      "cell_type": "code",
      "source": [
        "model.obj()"
      ],
      "metadata": {
        "colab": {
          "base_uri": "https://localhost:8080/"
        },
        "id": "pBmEztAT-SHK",
        "outputId": "2fce2e39-4f6e-4e56-85d7-18911bd01e69"
      },
      "execution_count": null,
      "outputs": [
        {
          "output_type": "execute_result",
          "data": {
            "text/plain": [
              "1238050.0"
            ]
          },
          "metadata": {},
          "execution_count": 24
        }
      ]
    },
    {
      "cell_type": "code",
      "source": [
        "print('Decision Variables for our model : ')\n",
        "for i in range(6):\n",
        "    print(f'x{i} : ', model.y[i].value)"
      ],
      "metadata": {
        "colab": {
          "base_uri": "https://localhost:8080/"
        },
        "id": "SvBVvprg-URv",
        "outputId": "309b186f-1c55-49b6-daff-2422f057c3a0"
      },
      "execution_count": null,
      "outputs": [
        {
          "output_type": "stream",
          "name": "stdout",
          "text": [
            "Decision Variables for our model : \n",
            "x0 :  0.0\n",
            "x1 :  0.0\n",
            "x2 :  0.0\n",
            "x3 :  1.0\n",
            "x4 :  1875.0\n",
            "x5 :  0.0\n"
          ]
        }
      ]
    },
    {
      "cell_type": "code",
      "source": [],
      "metadata": {
        "id": "zwpvICXe-fe3"
      },
      "execution_count": null,
      "outputs": []
    }
  ]
}