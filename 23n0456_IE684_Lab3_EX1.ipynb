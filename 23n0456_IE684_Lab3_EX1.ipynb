{
  "nbformat": 4,
  "nbformat_minor": 0,
  "metadata": {
    "colab": {
      "provenance": []
    },
    "kernelspec": {
      "name": "python3",
      "display_name": "Python 3"
    },
    "language_info": {
      "name": "python"
    }
  },
  "cells": [
    {
      "cell_type": "markdown",
      "source": [
        "#Answer Part (a)"
      ],
      "metadata": {
        "id": "OU4-eoSMLwZR"
      }
    },
    {
      "cell_type": "code",
      "source": [
        "import numpy as np\n",
        "\n",
        "# Define the objective function\n",
        "def f(x):\n",
        "    x1, x2 = x\n",
        "    return x1**2 + 4*x1*x2 + 1600*x2**2\n",
        "\n",
        "# Define the gradient of the objective function\n",
        "def gradient_f(x):\n",
        "    x1, x2 = x\n",
        "    df_dx1 = 2*x1 + 4*x2\n",
        "    df_dx2 = 4*x1 + 3200*x2\n",
        "    return np.array([df_dx1, df_dx2])\n",
        "\n",
        "# Define the Hessian matrix of the objective function\n",
        "def hessian_f(x):\n",
        "    x1, x2 = x\n",
        "    d2f_dx1dx1 = 2\n",
        "    d2f_dx1dx2 = 4\n",
        "    d2f_dx2dx1 = 4\n",
        "    d2f_dx2dx2 = 3200\n",
        "    return np.array([[d2f_dx1dx1, d2f_dx1dx2], [d2f_dx2dx1, d2f_dx2dx2]])\n",
        "\n",
        "# Initial guess\n",
        "x0 = np.array([0.0, 0.0])\n",
        "\n",
        "# Minimize the objective function using the inverse of the Hessian matrix\n",
        "hessian_inv = np.linalg.inv(hessian_f(x0))\n",
        "minimizer = x0 - np.dot(hessian_inv, gradient_f(x0))\n",
        "\n",
        "# Calculate minimum value\n",
        "min_value = f(minimizer)\n",
        "\n",
        "# Calculate the condition number of the Hessian matrix\n",
        "condition_number = np.linalg.cond(hessian_f(x0))\n",
        "\n",
        "# Print results\n",
        "print(\"Minimizer:\", minimizer)\n",
        "print(\"Minimum Value:\", min_value)\n",
        "print(\"Hessian Matrix:\")\n",
        "print(hessian_f(x0))\n",
        "print(\"Condition Number:\", condition_number)"
      ],
      "metadata": {
        "colab": {
          "base_uri": "https://localhost:8080/"
        },
        "id": "rwAw2mwhCLOv",
        "outputId": "b155d007-a581-4950-a2c0-99e86022fa81"
      },
      "execution_count": null,
      "outputs": [
        {
          "output_type": "stream",
          "name": "stdout",
          "text": [
            "Minimizer: [0. 0.]\n",
            "Minimum Value: 0.0\n",
            "Hessian Matrix:\n",
            "[[   2    4]\n",
            " [   4 3200]]\n",
            "Condition Number: 1604.0150407248495\n"
          ]
        }
      ]
    },
    {
      "cell_type": "markdown",
      "source": [
        "#Answer (b)\n",
        "**Justification for Symmetry and Positive Definiteness of  $D$**\n",
        "\n",
        "The matrix $D$ is defined as $D = MM^T$, where $M$ is an invertible matrix. Let's denote $M^{-1}$ as $N$ (i.e., $M^{-1} = N$). Then,\n",
        "\n",
        "$D = MM^T = MN$\n",
        "\n",
        "Now, let's consider the transpose of $D^T$:\n",
        "\n",
        "$D^T = (MN)^T = N^T M^T$\n",
        "\n",
        "Since $M$ is an invertible matrix, its transpose is also invertible, and $N^T$ is the inverse of $M^T$. Therefore, $D^T$ is also invertible.\n",
        "\n",
        "Since $D$ is both invertible and $D^T$ is invertible, $D$ is symmetric.\n",
        "\n",
        "Now, let's consider a vector $v$, $v^T D v$. Since $D$ is symmetric, $v^T D v$ is always real, and $D$ is positive definite if $v^T D v > 0$ for all non-zero vectors $v$.\n",
        "\n",
        "Thus, $D$ is symmetric and positive definite.\n",
        "\n",
        "**{Matrix } $Q${in the New Gradient Scheme with Scaling:**\n",
        "\n",
        "In the new gradient scheme with scaling, the update is given by $x_{k+1} = x_k - \\eta D \\nabla f(x_k)$. Here, $D$ is a diagonal matrix that scales the gradient.\n",
        "\n",
        "The matrix $Q$ whose condition number needs to be analyzed in this scheme is $Q = D^{-1}$, which is the inverse of the scaling matrix $D$. The condition number of $Q$ will influence the convergence behavior of the optimization algorithm. If $Q$ has a large condition number, it indicates ill-conditioning and might lead to slow convergence. The choice of the scaling matrix $D$ is crucial in mitigating ill-conditioning and improving the convergence rate.\n"
      ],
      "metadata": {
        "id": "hj7CzKEtL2zr"
      }
    },
    {
      "cell_type": "markdown",
      "source": [
        "#Answer (c)"
      ],
      "metadata": {
        "id": "gSag9-L5MMVT"
      }
    },
    {
      "cell_type": "code",
      "execution_count": null,
      "metadata": {
        "colab": {
          "base_uri": "https://localhost:8080/"
        },
        "id": "OeIKLa-I4FK-",
        "outputId": "f1bf9f7f-0f77-4081-caec-5c57f8368a60"
      },
      "outputs": [
        {
          "output_type": "stream",
          "name": "stderr",
          "text": [
            "<ipython-input-11-8de59de3bbe0>:48: FutureWarning: The frame.append method is deprecated and will be removed from pandas in a future version. Use pandas.concat instead.\n",
            "  results_df = results_df.append({\n",
            "<ipython-input-11-8de59de3bbe0>:48: FutureWarning: The frame.append method is deprecated and will be removed from pandas in a future version. Use pandas.concat instead.\n",
            "  results_df = results_df.append({\n",
            "<ipython-input-11-8de59de3bbe0>:48: FutureWarning: The frame.append method is deprecated and will be removed from pandas in a future version. Use pandas.concat instead.\n",
            "  results_df = results_df.append({\n",
            "<ipython-input-11-8de59de3bbe0>:48: FutureWarning: The frame.append method is deprecated and will be removed from pandas in a future version. Use pandas.concat instead.\n",
            "  results_df = results_df.append({\n",
            "<ipython-input-11-8de59de3bbe0>:48: FutureWarning: The frame.append method is deprecated and will be removed from pandas in a future version. Use pandas.concat instead.\n",
            "  results_df = results_df.append({\n",
            "<ipython-input-11-8de59de3bbe0>:48: FutureWarning: The frame.append method is deprecated and will be removed from pandas in a future version. Use pandas.concat instead.\n",
            "  results_df = results_df.append({\n",
            "<ipython-input-11-8de59de3bbe0>:48: FutureWarning: The frame.append method is deprecated and will be removed from pandas in a future version. Use pandas.concat instead.\n",
            "  results_df = results_df.append({\n",
            "<ipython-input-11-8de59de3bbe0>:48: FutureWarning: The frame.append method is deprecated and will be removed from pandas in a future version. Use pandas.concat instead.\n",
            "  results_df = results_df.append({\n"
          ]
        },
        {
          "output_type": "stream",
          "name": "stdout",
          "text": [
            "    Rho                                         Minimizer  \\\n",
            "0  0.90   [-4.868971540211662e-13, 5.565782985266135e-16]   \n",
            "1  0.80   [-4.790069246205774e-13, 5.778598470150959e-16]   \n",
            "2  0.75  [-4.1234555262442357e-13, 4.986931462532005e-16]   \n",
            "3  0.60   [-4.868091530113097e-13, 6.523302867086069e-16]   \n",
            "4  0.50   [-4.770387496332369e-13, 6.862543844823448e-16]   \n",
            "5  0.40   [-4.920160157725997e-13, 6.639161644357058e-16]   \n",
            "6  0.25   [-4.789524215025443e-13, 5.090807270080365e-16]   \n",
            "7  0.10   [-4.442505893300768e-13, 6.836703789033225e-16]   \n",
            "8  0.01   [-4.876545546312649e-13, 5.391056716414657e-16]   \n",
            "\n",
            "   Objective Function Value Iterations  \n",
            "0              2.364805e-25       3583  \n",
            "1              2.288747e-25       1331  \n",
            "2              1.696042e-25        538  \n",
            "3              2.363938e-25       5615  \n",
            "4              2.270100e-25      16981  \n",
            "5              2.414784e-25       5961  \n",
            "6              2.288348e-25      15287  \n",
            "7              1.968916e-25      37849  \n",
            "8              2.372204e-25      13538  \n"
          ]
        },
        {
          "output_type": "stream",
          "name": "stderr",
          "text": [
            "<ipython-input-11-8de59de3bbe0>:48: FutureWarning: The frame.append method is deprecated and will be removed from pandas in a future version. Use pandas.concat instead.\n",
            "  results_df = results_df.append({\n"
          ]
        }
      ],
      "source": [
        "import numpy as np\n",
        "import pandas as pd\n",
        "\n",
        "def f(x):\n",
        "    return x[0]**2 + 4 * x[0] * x[1] + 1600 * x[1]**2\n",
        "\n",
        "def gradient_f(x):\n",
        "    return np.array([2 * x[0] + 4 * x[1], 4 * x[0] + 3200 * x[1]])\n",
        "\n",
        "def backtracking_line_search(x, direction, alpha0, rho, gamma):\n",
        "    alpha = alpha0\n",
        "    while f(x + alpha * direction) > f(x) + gamma * alpha * np.dot(gradient_f(x), direction):\n",
        "        alpha *= rho\n",
        "    return alpha\n",
        "\n",
        "def gradient_descent_with_scaling(x0, tolerance, alpha, rho, gamma):\n",
        "    x = x0.copy()\n",
        "    k = 0\n",
        "\n",
        "    while np.linalg.norm(gradient_f(x)) > tolerance:\n",
        "        pk = -gradient_f(x)\n",
        "        Dk = np.eye(len(x))  # Identity matrix for scaling\n",
        "\n",
        "        alpha_k = backtracking_line_search(x, pk, alpha, rho, gamma)\n",
        "        x = x + alpha_k * np.dot(Dk, pk)\n",
        "        k += 1\n",
        "\n",
        "    return x, f(x), k\n",
        "\n",
        "# Set parameters for backtracking line search\n",
        "alpha = 1\n",
        "gamma = 0.5\n",
        "rhos = [0.9, 0.8, 0.75, 0.6, 0.5, 0.4, 0.25, 0.1, 0.01]\n",
        "\n",
        "# Set starting point and tolerance\n",
        "x0 = np.array([1, 4000])\n",
        "tolerance = 1e-12\n",
        "\n",
        "# Initialize a DataFrame to store results\n",
        "results_df = pd.DataFrame(columns=['Rho', 'Minimizer', 'Objective Function Value', 'Iterations'])\n",
        "iter2=[]\n",
        "\n",
        "for rho in rhos:\n",
        "    result, obj_func_value, iterations = gradient_descent_with_scaling(x0, tolerance, alpha, rho, gamma)\n",
        "    iter2.append(iterations)\n",
        "\n",
        "    # Append results to DataFrame\n",
        "    results_df = results_df.append({\n",
        "        'Rho': rho,\n",
        "        'Minimizer': result,\n",
        "        'Objective Function Value': obj_func_value,\n",
        "        'Iterations': iterations\n",
        "    }, ignore_index=True)\n",
        "\n",
        "# Display the results\n",
        "print(results_df)\n"
      ]
    },
    {
      "cell_type": "code",
      "source": [
        "def gradient_descent_without_scaling(x0, tolerance, alpha, rho, gamma):\n",
        "    x = x0.copy()\n",
        "    k = 0\n",
        "\n",
        "    while np.linalg.norm(gradient_f(x)) > tolerance:\n",
        "        pk = -gradient_f(x)\n",
        "\n",
        "        alpha_k = backtracking_line_search(x, pk, alpha, rho, gamma)\n",
        "        x = x + alpha_k * pk\n",
        "        k += 1\n",
        "\n",
        "    return x, f(x), k\n",
        "\n",
        "# Initialize a DataFrame to store results for gradient descent without scaling\n",
        "results_df_no_scaling = pd.DataFrame(columns=['Rho1', 'Minimizer1', 'Objective Function Value1', 'Iterations1'])\n",
        "iter=[]\n",
        "\n",
        "for rho in rhos:\n",
        "    result, obj_func_value, iterations = gradient_descent_without_scaling(x0, tolerance, alpha, rho, gamma)\n",
        "    iter.append(iterations)\n",
        "\n",
        "    # Append results to DataFrame\n",
        "    results_df_no_scaling = results_df_no_scaling.append({\n",
        "        'Rho1': rho,\n",
        "        'Minimizer1': result,\n",
        "        'Objective Function Value1': obj_func_value,\n",
        "        'Iterations1': iterations\n",
        "    }, ignore_index=True)\n",
        "\n",
        "# Display the results for gradient descent without scaling\n",
        "print(results_df_no_scaling)\n"
      ],
      "metadata": {
        "colab": {
          "base_uri": "https://localhost:8080/"
        },
        "id": "yxeknFMj48st",
        "outputId": "976536d2-2897-40af-f5ef-46c493e9b39a"
      },
      "execution_count": null,
      "outputs": [
        {
          "output_type": "stream",
          "name": "stderr",
          "text": [
            "<ipython-input-12-a2714ad9133a>:23: FutureWarning: The frame.append method is deprecated and will be removed from pandas in a future version. Use pandas.concat instead.\n",
            "  results_df_no_scaling = results_df_no_scaling.append({\n",
            "<ipython-input-12-a2714ad9133a>:23: FutureWarning: The frame.append method is deprecated and will be removed from pandas in a future version. Use pandas.concat instead.\n",
            "  results_df_no_scaling = results_df_no_scaling.append({\n",
            "<ipython-input-12-a2714ad9133a>:23: FutureWarning: The frame.append method is deprecated and will be removed from pandas in a future version. Use pandas.concat instead.\n",
            "  results_df_no_scaling = results_df_no_scaling.append({\n",
            "<ipython-input-12-a2714ad9133a>:23: FutureWarning: The frame.append method is deprecated and will be removed from pandas in a future version. Use pandas.concat instead.\n",
            "  results_df_no_scaling = results_df_no_scaling.append({\n",
            "<ipython-input-12-a2714ad9133a>:23: FutureWarning: The frame.append method is deprecated and will be removed from pandas in a future version. Use pandas.concat instead.\n",
            "  results_df_no_scaling = results_df_no_scaling.append({\n",
            "<ipython-input-12-a2714ad9133a>:23: FutureWarning: The frame.append method is deprecated and will be removed from pandas in a future version. Use pandas.concat instead.\n",
            "  results_df_no_scaling = results_df_no_scaling.append({\n",
            "<ipython-input-12-a2714ad9133a>:23: FutureWarning: The frame.append method is deprecated and will be removed from pandas in a future version. Use pandas.concat instead.\n",
            "  results_df_no_scaling = results_df_no_scaling.append({\n",
            "<ipython-input-12-a2714ad9133a>:23: FutureWarning: The frame.append method is deprecated and will be removed from pandas in a future version. Use pandas.concat instead.\n",
            "  results_df_no_scaling = results_df_no_scaling.append({\n"
          ]
        },
        {
          "output_type": "stream",
          "name": "stdout",
          "text": [
            "   Rho1                                        Minimizer1  \\\n",
            "0  0.90   [-4.868971540211662e-13, 5.565782985266135e-16]   \n",
            "1  0.80   [-4.790069246205774e-13, 5.778598470150959e-16]   \n",
            "2  0.75  [-4.1234555262442357e-13, 4.986931462532005e-16]   \n",
            "3  0.60   [-4.868091530113097e-13, 6.523302867086069e-16]   \n",
            "4  0.50   [-4.770387496332369e-13, 6.862543844823448e-16]   \n",
            "5  0.40   [-4.920160157725997e-13, 6.639161644357058e-16]   \n",
            "6  0.25   [-4.789524215025443e-13, 5.090807270080365e-16]   \n",
            "7  0.10   [-4.442505893300768e-13, 6.836703789033225e-16]   \n",
            "8  0.01   [-4.876545546312649e-13, 5.391056716414657e-16]   \n",
            "\n",
            "   Objective Function Value1 Iterations1  \n",
            "0               2.364805e-25        3583  \n",
            "1               2.288747e-25        1331  \n",
            "2               1.696042e-25         538  \n",
            "3               2.363938e-25        5615  \n",
            "4               2.270100e-25       16981  \n",
            "5               2.414784e-25        5961  \n",
            "6               2.288348e-25       15287  \n",
            "7               1.968916e-25       37849  \n",
            "8               2.372204e-25       13538  \n"
          ]
        },
        {
          "output_type": "stream",
          "name": "stderr",
          "text": [
            "<ipython-input-12-a2714ad9133a>:23: FutureWarning: The frame.append method is deprecated and will be removed from pandas in a future version. Use pandas.concat instead.\n",
            "  results_df_no_scaling = results_df_no_scaling.append({\n"
          ]
        }
      ]
    },
    {
      "cell_type": "code",
      "source": [
        "# preparing a plot of iterations vs rho values\n",
        "import matplotlib.pyplot as plt\n",
        "\n",
        "# Example lists\n",
        "list1 = iter\n",
        "list2 = rhos\n",
        "\n",
        "# Plotting\n",
        "plt.plot(list1, list2, marker='o', linestyle='-', color='b', label='Iteration VS rho')\n",
        "\n",
        "# Adding labels and title\n",
        "plt.xlabel('iterations ')\n",
        "plt.ylabel('rho values')\n",
        "plt.title('iterations  vs rho values')\n",
        "\n",
        "# Adding a legend\n",
        "plt.legend()\n",
        "\n",
        "# Display the plot\n",
        "plt.show()\n"
      ],
      "metadata": {
        "colab": {
          "base_uri": "https://localhost:8080/",
          "height": 472
        },
        "id": "j1TYqcxh6BxZ",
        "outputId": "75db2e29-9d5a-4422-9806-879e45b200be"
      },
      "execution_count": null,
      "outputs": [
        {
          "output_type": "display_data",
          "data": {
            "text/plain": [
              "<Figure size 640x480 with 1 Axes>"
            ],
            "image/png": "[encoded data removed]"
          },
          "metadata": {}
        }
      ]
    },
    {
      "cell_type": "code",
      "source": [
        "# plotting the level plot\n",
        "import numpy as np\n",
        "import matplotlib.pyplot as plt\n",
        "from matplotlib.colors import LogNorm\n",
        "\n",
        "# Define the function\n",
        "def f(x):\n",
        "    return x[0]**2 + 4 * x[0] * x[1] + 1600 * x[1]**2\n",
        "\n",
        "# Define the gradient of the function\n",
        "def gradient_f(x):\n",
        "    return np.array([2 * x[0] + 4 * x[1], 4 * x[0] + 3200 * x[1]])\n",
        "\n",
        "# Gradient descent without scaling\n",
        "def gradient_descent_no_scaling1(x0, alpha, rho, gamma, tolerance=1e-12):\n",
        "    trajectory = [x0.copy()]\n",
        "    x = x0.copy()\n",
        "\n",
        "    while np.linalg.norm(gradient_f(x)) > tolerance:\n",
        "        pk = -gradient_f(x)\n",
        "\n",
        "        alpha_k = backtracking_line_search(x, pk, alpha, rho, gamma)\n",
        "        x = x + alpha_k * pk\n",
        "\n",
        "        trajectory.append(x.copy())\n",
        "\n",
        "    return np.array(trajectory)\n",
        "\n",
        "# Gradient descent with scaling\n",
        "def gradient_descent_with_scaling1(x0, alpha, rho, gamma, tolerance=1e-12):\n",
        "    trajectory = [x0.copy()]\n",
        "    x = x0.copy()\n",
        "\n",
        "    while np.linalg.norm(gradient_f(x)) > tolerance:\n",
        "        pk = -gradient_f(x)\n",
        "        Dk = np.eye(len(x))\n",
        "\n",
        "        alpha_k = backtracking_line_search(x, pk, alpha, rho, gamma)\n",
        "        x = x + alpha_k * np.dot(Dk, pk)\n",
        "\n",
        "        trajectory.append(x.copy())\n",
        "\n",
        "    return np.array(trajectory)\n",
        "\n",
        "# Set parameters for both gradient descent algorithms\n",
        "alpha = 1\n",
        "rho = 0.5\n",
        "gamma = 0.5\n",
        "\n",
        "# Set starting point\n",
        "x0 = np.array([1, 4000])\n",
        "\n",
        "# Perform gradient descent with and without scaling\n",
        "trajectory_no_scaling = gradient_descent_no_scaling1(x0, alpha, rho, gamma)\n",
        "trajectory_with_scaling = gradient_descent_with_scaling1(x0, alpha, rho, gamma)\n",
        "\n",
        "# Plot the level sets\n",
        "x_vals = np.linspace(-5000, 5000, 400)\n",
        "y_vals = np.linspace(-5000, 5000, 400)\n",
        "X, Y = np.meshgrid(x_vals, y_vals)\n",
        "Z = f(np.vstack([X.ravel(), Y.ravel()])).reshape(X.shape)\n",
        "\n",
        "plt.figure(figsize=(10, 8))\n",
        "plt.contour(X, Y, Z, levels=np.logspace(0, 5, 35), norm=LogNorm(), cmap=plt.cm.gray)\n",
        "\n",
        "# Plot the trajectory without scaling\n",
        "plt.plot(trajectory_no_scaling[:, 0], trajectory_no_scaling[:, 1], marker='o', linestyle='-', color='b', label='No Scaling')\n",
        "\n",
        "# Plot the trajectory with scaling\n",
        "plt.plot(trajectory_with_scaling[:, 0], trajectory_with_scaling[:, 1], marker='o', linestyle='-', color='r', label='With Scaling')\n",
        "\n",
        "# Adding labels and title\n",
        "plt.xlabel('x1')\n",
        "plt.ylabel('x2')\n",
        "plt.title('Level Sets and Trajectory of Optimization')\n",
        "\n",
        "# Adding a legend\n",
        "plt.legend()\n",
        "\n",
        "# Display the plot\n",
        "plt.show()\n"
      ],
      "metadata": {
        "colab": {
          "base_uri": "https://localhost:8080/",
          "height": 718
        },
        "id": "7AL3WMrwACCv",
        "outputId": "964e79ba-6dad-470e-e4b4-f60232b0e6ca"
      },
      "execution_count": null,
      "outputs": [
        {
          "output_type": "display_data",
          "data": {
            "text/plain": [
              "<Figure size 1000x800 with 1 Axes>"
            ],
            "image/png": "[encoded data removed]"
          },
          "metadata": {}
        }
      ]
    }
  ]
}