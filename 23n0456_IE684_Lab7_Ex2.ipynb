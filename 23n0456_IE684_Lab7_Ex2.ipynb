{
  "nbformat": 4,
  "nbformat_minor": 0,
  "metadata": {
    "colab": {
      "provenance": []
    },
    "kernelspec": {
      "name": "python3",
      "display_name": "Python 3"
    },
    "language_info": {
      "name": "python"
    }
  },
  "cells": [
    {
      "cell_type": "markdown",
      "source": [
        "#Exercise 2"
      ],
      "metadata": {
        "id": "Iqb7RbIELX6R"
      }
    },
    {
      "cell_type": "markdown",
      "source": [
        "##Answer 1 and 2"
      ],
      "metadata": {
        "id": "a16XvPZmLa-m"
      }
    },
    {
      "cell_type": "code",
      "execution_count": 1,
      "metadata": {
        "colab": {
          "base_uri": "https://localhost:8080/"
        },
        "id": "PPxgHLkOJc9S",
        "outputId": "8915c618-2d1e-4799-d9fb-f1af3e0f3548"
      },
      "outputs": [
        {
          "output_type": "stream",
          "name": "stdout",
          "text": [
            "(150, 4)\n",
            "(150,)\n"
          ]
        }
      ],
      "source": [
        "import numpy as np\n",
        "#we will load the iris data from scikit - learn package\n",
        "from sklearn . datasets import load_iris\n",
        "iris = load_iris ()\n",
        "# check the shape of iris data\n",
        "print ( iris . data . shape )\n",
        "A = iris . data\n",
        "# check the shape of iris target\n",
        "print ( iris . target . shape )\n",
        "#How many labels does iris data have ?\n",
        "#C= num_of_classes\n",
        "# print (C)\n",
        "n = iris . data . shape [0] # Number of data points\n",
        "d = iris . data . shape [1] # Dimension of data points\n",
        "#In the following code , we create a nx1 vector of target labels\n",
        "y = 1.0* np . ones ([ A . shape [0] ,])\n",
        "for i in range ( iris . target . shape [0]) :\n",
        "# y[i] = ???? # Convert class labels that are not 1 into -1\n",
        "# Create an index array\n",
        "  indexarr = np.arange ( n ) # index array\n",
        "  np . random . shuffle ( indexarr ) # shuffle the indices\n",
        "training_length=int(0.8*len(indexarr))\n",
        "train_size=indexarr[:training_length]\n",
        "test_size=indexarr[training_length:]"
      ]
    },
    {
      "cell_type": "markdown",
      "source": [
        "#Answer 3"
      ],
      "metadata": {
        "id": "Y4JUP8lbLgAz"
      }
    },
    {
      "cell_type": "code",
      "source": [
        "A_target=iris.target\n",
        "for i in range(A.shape[0]):\n",
        "  if A_target[i]==0 or A_target[i]==2:\n",
        "    A_target[i]=-1\n",
        "B=A_target.reshape(150,1)\n",
        "a_new=np.hstack((A,B))\n",
        "training_data=[a_new[i] for i in train_size]\n",
        "testing_data=[a_new[i] for i in test_size]\n",
        "tr_data=np.vstack(training_data)\n",
        "tr_data.shape\n",
        "ts_data=np.vstack(testing_data)\n",
        "print(tr_data)\n",
        "print(ts_data)"
      ],
      "metadata": {
        "colab": {
          "base_uri": "https://localhost:8080/"
        },
        "id": "1erosa3_KJCN",
        "outputId": "23c757b5-ad9a-4643-a519-bb48a7240d8e"
      },
      "execution_count": 2,
      "outputs": [
        {
          "output_type": "stream",
          "name": "stdout",
          "text": [
            "[[ 6.3  2.3  4.4  1.3  1. ]\n",
            " [ 5.7  2.9  4.2  1.3  1. ]\n",
            " [ 5.6  3.   4.1  1.3  1. ]\n",
            " [ 4.7  3.2  1.6  0.2 -1. ]\n",
            " [ 5.7  2.8  4.5  1.3  1. ]\n",
            " [ 5.1  3.8  1.6  0.2 -1. ]\n",
            " [ 4.9  2.5  4.5  1.7 -1. ]\n",
            " [ 6.5  3.   5.8  2.2 -1. ]\n",
            " [ 6.7  2.5  5.8  1.8 -1. ]\n",
            " [ 4.8  3.4  1.9  0.2 -1. ]\n",
            " [ 6.5  3.2  5.1  2.  -1. ]\n",
            " [ 5.5  4.2  1.4  0.2 -1. ]\n",
            " [ 5.5  2.6  4.4  1.2  1. ]\n",
            " [ 4.6  3.1  1.5  0.2 -1. ]\n",
            " [ 6.5  3.   5.5  1.8 -1. ]\n",
            " [ 4.6  3.2  1.4  0.2 -1. ]\n",
            " [ 6.8  2.8  4.8  1.4  1. ]\n",
            " [ 5.   3.   1.6  0.2 -1. ]\n",
            " [ 5.5  2.3  4.   1.3  1. ]\n",
            " [ 6.1  2.8  4.7  1.2  1. ]\n",
            " [ 5.7  3.   4.2  1.2  1. ]\n",
            " [ 7.1  3.   5.9  2.1 -1. ]\n",
            " [ 5.   3.5  1.3  0.3 -1. ]\n",
            " [ 5.9  3.   4.2  1.5  1. ]\n",
            " [ 5.   3.2  1.2  0.2 -1. ]\n",
            " [ 7.   3.2  4.7  1.4  1. ]\n",
            " [ 5.8  2.7  5.1  1.9 -1. ]\n",
            " [ 4.4  3.2  1.3  0.2 -1. ]\n",
            " [ 6.7  3.3  5.7  2.1 -1. ]\n",
            " [ 6.1  3.   4.6  1.4  1. ]\n",
            " [ 5.1  3.5  1.4  0.3 -1. ]\n",
            " [ 5.7  2.6  3.5  1.   1. ]\n",
            " [ 6.   2.9  4.5  1.5  1. ]\n",
            " [ 4.9  3.6  1.4  0.1 -1. ]\n",
            " [ 7.4  2.8  6.1  1.9 -1. ]\n",
            " [ 6.7  3.1  5.6  2.4 -1. ]\n",
            " [ 6.7  3.1  4.4  1.4  1. ]\n",
            " [ 6.5  3.   5.2  2.  -1. ]\n",
            " [ 6.4  2.7  5.3  1.9 -1. ]\n",
            " [ 6.1  2.8  4.   1.3  1. ]\n",
            " [ 6.   3.4  4.5  1.6  1. ]\n",
            " [ 7.7  3.   6.1  2.3 -1. ]\n",
            " [ 4.5  2.3  1.3  0.3 -1. ]\n",
            " [ 5.4  3.9  1.7  0.4 -1. ]\n",
            " [ 5.1  3.5  1.4  0.2 -1. ]\n",
            " [ 5.5  3.5  1.3  0.2 -1. ]\n",
            " [ 7.7  2.6  6.9  2.3 -1. ]\n",
            " [ 4.8  3.1  1.6  0.2 -1. ]\n",
            " [ 7.2  3.   5.8  1.6 -1. ]\n",
            " [ 5.   2.3  3.3  1.   1. ]\n",
            " [ 6.4  3.2  4.5  1.5  1. ]\n",
            " [ 5.1  3.4  1.5  0.2 -1. ]\n",
            " [ 7.2  3.6  6.1  2.5 -1. ]\n",
            " [ 6.9  3.2  5.7  2.3 -1. ]\n",
            " [ 6.   3.   4.8  1.8 -1. ]\n",
            " [ 4.3  3.   1.1  0.1 -1. ]\n",
            " [ 6.7  3.   5.   1.7  1. ]\n",
            " [ 6.3  3.4  5.6  2.4 -1. ]\n",
            " [ 5.7  4.4  1.5  0.4 -1. ]\n",
            " [ 6.3  2.5  5.   1.9 -1. ]\n",
            " [ 6.7  3.   5.2  2.3 -1. ]\n",
            " [ 6.1  2.6  5.6  1.4 -1. ]\n",
            " [ 5.   3.4  1.5  0.2 -1. ]\n",
            " [ 5.4  3.4  1.5  0.4 -1. ]\n",
            " [ 4.8  3.   1.4  0.1 -1. ]\n",
            " [ 4.9  3.1  1.5  0.1 -1. ]\n",
            " [ 5.8  2.7  4.1  1.   1. ]\n",
            " [ 4.7  3.2  1.3  0.2 -1. ]\n",
            " [ 6.9  3.1  5.1  2.3 -1. ]\n",
            " [ 7.9  3.8  6.4  2.  -1. ]\n",
            " [ 4.9  2.4  3.3  1.   1. ]\n",
            " [ 6.9  3.1  5.4  2.1 -1. ]\n",
            " [ 6.4  2.8  5.6  2.2 -1. ]\n",
            " [ 5.4  3.7  1.5  0.2 -1. ]\n",
            " [ 5.6  2.8  4.9  2.  -1. ]\n",
            " [ 5.1  3.8  1.9  0.4 -1. ]\n",
            " [ 5.   3.5  1.6  0.6 -1. ]\n",
            " [ 5.2  4.1  1.5  0.1 -1. ]\n",
            " [ 6.3  2.9  5.6  1.8 -1. ]\n",
            " [ 6.2  2.8  4.8  1.8 -1. ]\n",
            " [ 5.4  3.   4.5  1.5  1. ]\n",
            " [ 4.4  2.9  1.4  0.2 -1. ]\n",
            " [ 5.9  3.2  4.8  1.8  1. ]\n",
            " [ 6.3  3.3  6.   2.5 -1. ]\n",
            " [ 5.8  2.6  4.   1.2  1. ]\n",
            " [ 5.   2.   3.5  1.   1. ]\n",
            " [ 6.5  2.8  4.6  1.5  1. ]\n",
            " [ 6.4  2.8  5.6  2.1 -1. ]\n",
            " [ 6.3  2.7  4.9  1.8 -1. ]\n",
            " [ 6.   2.2  4.   1.   1. ]\n",
            " [ 6.8  3.   5.5  2.1 -1. ]\n",
            " [ 7.2  3.2  6.   1.8 -1. ]\n",
            " [ 6.3  2.8  5.1  1.5 -1. ]\n",
            " [ 6.1  2.9  4.7  1.4  1. ]\n",
            " [ 6.2  2.2  4.5  1.5  1. ]\n",
            " [ 5.   3.4  1.6  0.4 -1. ]\n",
            " [ 6.6  2.9  4.6  1.3  1. ]\n",
            " [ 6.7  3.3  5.7  2.5 -1. ]\n",
            " [ 6.2  3.4  5.4  2.3 -1. ]\n",
            " [ 5.5  2.5  4.   1.3  1. ]\n",
            " [ 6.4  2.9  4.3  1.3  1. ]\n",
            " [ 6.2  2.9  4.3  1.3  1. ]\n",
            " [ 5.4  3.4  1.7  0.2 -1. ]\n",
            " [ 4.8  3.   1.4  0.3 -1. ]\n",
            " [ 7.3  2.9  6.3  1.8 -1. ]\n",
            " [ 5.6  2.5  3.9  1.1  1. ]\n",
            " [ 6.7  3.1  4.7  1.5  1. ]\n",
            " [ 5.1  3.7  1.5  0.4 -1. ]\n",
            " [ 6.3  2.5  4.9  1.5  1. ]\n",
            " [ 4.4  3.   1.3  0.2 -1. ]\n",
            " [ 5.1  3.8  1.5  0.3 -1. ]\n",
            " [ 4.8  3.4  1.6  0.2 -1. ]\n",
            " [ 6.3  3.3  4.7  1.6  1. ]\n",
            " [ 4.9  3.   1.4  0.2 -1. ]\n",
            " [ 6.4  3.1  5.5  1.8 -1. ]\n",
            " [ 5.6  2.7  4.2  1.3  1. ]\n",
            " [ 5.2  3.5  1.5  0.2 -1. ]\n",
            " [ 6.1  3.   4.9  1.8 -1. ]\n",
            " [ 7.7  2.8  6.7  2.  -1. ]\n",
            " [ 5.   3.3  1.4  0.2 -1. ]]\n",
            "[[ 5.3  3.7  1.5  0.2 -1. ]\n",
            " [ 5.8  2.7  3.9  1.2  1. ]\n",
            " [ 6.9  3.1  4.9  1.5  1. ]\n",
            " [ 5.2  3.4  1.4  0.2 -1. ]\n",
            " [ 5.6  3.   4.5  1.5  1. ]\n",
            " [ 5.7  2.8  4.1  1.3  1. ]\n",
            " [ 5.4  3.9  1.3  0.4 -1. ]\n",
            " [ 5.8  2.8  5.1  2.4 -1. ]\n",
            " [ 6.   2.2  5.   1.5 -1. ]\n",
            " [ 5.7  2.5  5.   2.  -1. ]\n",
            " [ 5.5  2.4  3.8  1.1  1. ]\n",
            " [ 5.5  2.4  3.7  1.   1. ]\n",
            " [ 5.2  2.7  3.9  1.4  1. ]\n",
            " [ 4.6  3.6  1.   0.2 -1. ]\n",
            " [ 7.6  3.   6.6  2.1 -1. ]\n",
            " [ 5.8  4.   1.2  0.2 -1. ]\n",
            " [ 6.8  3.2  5.9  2.3 -1. ]\n",
            " [ 7.7  3.8  6.7  2.2 -1. ]\n",
            " [ 4.6  3.4  1.4  0.3 -1. ]\n",
            " [ 6.6  3.   4.4  1.4  1. ]\n",
            " [ 5.6  2.9  3.6  1.3  1. ]\n",
            " [ 4.9  3.1  1.5  0.2 -1. ]\n",
            " [ 5.1  2.5  3.   1.1  1. ]\n",
            " [ 6.4  3.2  5.3  2.3 -1. ]\n",
            " [ 5.1  3.3  1.7  0.5 -1. ]\n",
            " [ 5.8  2.7  5.1  1.9 -1. ]\n",
            " [ 6.   2.7  5.1  1.6  1. ]\n",
            " [ 5.7  3.8  1.7  0.3 -1. ]\n",
            " [ 5.9  3.   5.1  1.8 -1. ]\n",
            " [ 5.   3.6  1.4  0.2 -1. ]]\n"
          ]
        }
      ]
    },
    {
      "cell_type": "markdown",
      "source": [
        "##Answer 4"
      ],
      "metadata": {
        "id": "utQBV81xLjQE"
      }
    },
    {
      "cell_type": "code",
      "source": [
        "def predict(w,x):\n",
        "  if w.T@x>0:\n",
        "    pre=1\n",
        "  elif w.T@x<0:\n",
        "    pre=-1\n",
        "  return pre"
      ],
      "metadata": {
        "id": "DaYxrCXnKwZz"
      },
      "execution_count": 3,
      "outputs": []
    },
    {
      "cell_type": "markdown",
      "source": [
        "##Answer 5"
      ],
      "metadata": {
        "id": "HLVSCCumLn0l"
      }
    },
    {
      "cell_type": "code",
      "source": [
        "def compute_accuracy(data,model_w,label):\n",
        "  k=0\n",
        "  for i in range(len(data.shape[0])):\n",
        "    a=predict(model_w,data[i])\n",
        "    if a==label[i]:\n",
        "      k+=1\n",
        "  accuracy=str(k*100/len(data[0]))+'%'\n",
        "  return accuracy"
      ],
      "metadata": {
        "id": "InSrcE1nK0PX"
      },
      "execution_count": 4,
      "outputs": []
    }
  ]
}