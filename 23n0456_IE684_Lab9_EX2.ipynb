{
  "nbformat": 4,
  "nbformat_minor": 0,
  "metadata": {
    "colab": {
      "provenance": []
    },
    "kernelspec": {
      "name": "python3",
      "display_name": "Python 3"
    },
    "language_info": {
      "name": "python"
    }
  },
  "cells": [
    {
      "cell_type": "markdown",
      "source": [
        "\n",
        "*Exercise2*\n",
        "---\n",
        "\n"
      ],
      "metadata": {
        "id": "RRfGNMlDDDRl"
      }
    },
    {
      "cell_type": "markdown",
      "source": [
        "##Exercise 2\n",
        "***Part1***"
      ],
      "metadata": {
        "id": "H9CEFb7pY4VC"
      }
    },
    {
      "cell_type": "code",
      "source": [
        "import sys\n",
        "\n",
        "def dijkstra(graph, source):\n",
        "    # Number of vertices in the graph\n",
        "    vertices = len(graph)\n",
        "\n",
        "    # Initialize a list of distances from source to all other vertices as a large number\n",
        "    dist = [sys.maxsize] * vertices\n",
        "\n",
        "    # Initialize distance of source vertex from itself as 0\n",
        "    dist[source] = 0\n",
        "    path=[]\n",
        "\n",
        "    # Initialize list to keep track of visited vertices\n",
        "    visited = [False] * vertices\n",
        "\n",
        "    # Loop to find shortest path for all vertices\n",
        "    for _ in range(vertices):\n",
        "        # Find the vertex with the minimum distance value, which has not been visited yet\n",
        "        min_dist = sys.maxsize\n",
        "        min_dist_index = 0\n",
        "        for v in range(vertices):\n",
        "            if dist[v] < min_dist and not visited[v]:\n",
        "                min_dist = dist[v]\n",
        "                min_dist_index = v\n",
        "\n",
        "        # Mark the minimum distance vertex as visited\n",
        "        path.append(min_dist_index)\n",
        "        visited[min_dist_index] = True\n",
        "\n",
        "        # Update the distance value of the adjacent vertices of the picked vertex\n",
        "        for v in range(vertices):\n",
        "            if graph[min_dist_index][v] > 0 and not visited[v] and \\\n",
        "                    dist[v] > dist[min_dist_index] + graph[min_dist_index][v]:\n",
        "                dist[v] = dist[min_dist_index] + graph[min_dist_index][v]\n",
        "\n",
        "    return dist,path\n",
        "\n",
        "\n"
      ],
      "metadata": {
        "id": "0O6loEBuCysp"
      },
      "execution_count": 1,
      "outputs": []
    },
    {
      "cell_type": "code",
      "source": [
        "# for the problem 1 i will define adjancency matrix in form of list of lists\n",
        "ad_matrix=[[0,4.6,6.7,4.6,0,0,0,0,0],\n",
        "           [4.6,0,0,0,2.56,7.46,0,0,0],\n",
        "           [6.7,0,0,0,5.4,6.83,0,0,0],\n",
        "           [4.6,0,0,0,6.8,8.35,0,0,0],\n",
        "           [0,2.56,5.4,6.8,0,0,10,7.36,0],\n",
        "           [0,7.46,6.83,8.35,0,0,7.25,2.85,0],\n",
        "           [0,0,0,0,10,7.25,0,0,5.83],\n",
        "           [0,0,0,0,7.36,2.85,0,0,7.66],\n",
        "           [0,0,0,0,0,0,5.83,7.66,0]]"
      ],
      "metadata": {
        "id": "wyEOipOeY-oV"
      },
      "execution_count": 2,
      "outputs": []
    },
    {
      "cell_type": "markdown",
      "source": [
        "If we need to find distance of silgiri to every city then we need to consider node related with silgiri as the source node that is zero"
      ],
      "metadata": {
        "id": "90oEIuQWdN58"
      }
    },
    {
      "cell_type": "code",
      "source": [
        "#Implementing dijkstra algorithm to find the shortest distance of evry city from silgri\n",
        "cities=[\"Silgiri\",\"Patna\",\"Jamshedpur\",\"Kolkata\",\"Varanasi\",\"Raipur\",\"Indore\",\"Nagpur\",\"Mumbai\"]\n",
        "# Index of city in list cities is affliliated with node in the adjancency matrix\n",
        "source1=0\n",
        "shortest_distance,shrt_path=dijkstra(ad_matrix,source1)"
      ],
      "metadata": {
        "id": "ZwfVqK3Tc067"
      },
      "execution_count": 3,
      "outputs": []
    },
    {
      "cell_type": "code",
      "source": [
        "for i in range(len(cities)):\n",
        "  print(f\"The shortest distance of {cities[i]} from Silgiri is {round(float(shortest_distance[i])*100,2)} Kms\")"
      ],
      "metadata": {
        "colab": {
          "base_uri": "https://localhost:8080/"
        },
        "id": "njs4taV_c3Oj",
        "outputId": "d1393e5a-3147-46c9-bdd1-1b1378d85152"
      },
      "execution_count": 4,
      "outputs": [
        {
          "output_type": "stream",
          "name": "stdout",
          "text": [
            "The shortest distance of Silgiri from Silgiri is 0.0 Kms\n",
            "The shortest distance of Patna from Silgiri is 460.0 Kms\n",
            "The shortest distance of Jamshedpur from Silgiri is 670.0 Kms\n",
            "The shortest distance of Kolkata from Silgiri is 460.0 Kms\n",
            "The shortest distance of Varanasi from Silgiri is 716.0 Kms\n",
            "The shortest distance of Raipur from Silgiri is 1206.0 Kms\n",
            "The shortest distance of Indore from Silgiri is 1716.0 Kms\n",
            "The shortest distance of Nagpur from Silgiri is 1452.0 Kms\n",
            "The shortest distance of Mumbai from Silgiri is 2218.0 Kms\n"
          ]
        }
      ]
    },
    {
      "cell_type": "markdown",
      "source": [
        "**Part2**"
      ],
      "metadata": {
        "id": "hKgEPArqk4wd"
      }
    },
    {
      "cell_type": "code",
      "source": [
        "def backtracking_algorithm(adj_matrix, start, end):\n",
        "    num_nodes = len(adj_matrix)\n",
        "    # Initialize distances from start node to all other nodes as infinity\n",
        "    distances = [float('inf')] * num_nodes\n",
        "    # Distance from start node to itself is 0\n",
        "    distances[start] = 0\n",
        "    # Initialize a set to keep track of visited nodes\n",
        "    visited = set()\n",
        "    # Initialize a list to keep track of predecessors\n",
        "    predecessors = [None] * num_nodes\n",
        "    # Loop until all nodes are visited\n",
        "    while len(visited) < num_nodes:\n",
        "        # Find the node with the minimum distance from the start node\n",
        "        min_distance = float('inf')\n",
        "        min_node = None\n",
        "        for node in range(num_nodes):\n",
        "            if node not in visited and distances[node] < min_distance:\n",
        "                min_distance = distances[node]\n",
        "                min_node = node\n",
        "        # Add the min_node to the visited set\n",
        "        visited.add(min_node)\n",
        "        # Update distances for adjacent nodes\n",
        "        for node in range(num_nodes):\n",
        "            if node not in visited and adj_matrix[min_node][node] > 0:\n",
        "                new_distance = distances[min_node] + adj_matrix[min_node][node]\n",
        "                if new_distance < distances[node]:\n",
        "                    distances[node] = new_distance\n",
        "                    predecessors[node] = min_node\n",
        "    # Reconstruct the shortest path\n",
        "    path = []\n",
        "    node = end\n",
        "    while node is not None:\n",
        "        path.insert(0, node)\n",
        "        node = predecessors[node]\n",
        "    return path"
      ],
      "metadata": {
        "id": "zOfol7aKk7wc"
      },
      "execution_count": 5,
      "outputs": []
    },
    {
      "cell_type": "code",
      "source": [
        "Shortest_path=backtracking_algorithm(ad_matrix,source1,8)\n",
        " # As he will chose the one with minimum distance from any node\n",
        "pth=[]\n",
        "\n",
        "for v in Shortest_path:\n",
        "  pth.append(cities[v])\n",
        "\n",
        "\n",
        "path1=\"->\".join(pth)\n",
        "print(f'The shortest path for bidyut is {path1}\\n with shortest distance upto mumbai is: {max(shortest_distance)*100} Kms')"
      ],
      "metadata": {
        "colab": {
          "base_uri": "https://localhost:8080/"
        },
        "id": "kLfQw0V7lSHV",
        "outputId": "59372128-7a99-4ed3-dfb8-d49e5e9bf037"
      },
      "execution_count": 6,
      "outputs": [
        {
          "output_type": "stream",
          "name": "stdout",
          "text": [
            "The shortest path for bidyut is Silgiri->Patna->Varanasi->Nagpur->Mumbai\n",
            " with shortest distance upto mumbai is: 2218.0 Kms\n"
          ]
        }
      ]
    },
    {
      "cell_type": "markdown",
      "source": [
        "**Part3**\n",
        "If It happens That there is a roadblock from Varanasi to Nagpur Then Bidyut is most likely to chose Patna to Raipur Instead of chosing Patna to Varanasi And then from Nagpur he will choose to go Mumbai .\n",
        "Thus The shortest PAth changes due to the exixtence of such roadblock as :\n",
        "\n",
        "***Siliguri->Patna->Raipur->Nagpur->Mumbai***\n",
        "\n",
        "But Previously It was like:\n",
        "\n",
        "***Siliguri->Patna->Varanasi->Nagpur->Mumbai***\n"
      ],
      "metadata": {
        "id": "kRLeBe8LwsLe"
      }
    },
    {
      "cell_type": "code",
      "source": [
        "# we can also show this with the help of code by changing the adjancency matrix by removing the road from 4 to 7 and from 7 to 4\n",
        "ad_matrix2=[[0,4.6,6.7,4.6,0,0,0,0,0],\n",
        "           [4.6,0,0,0,2.56,7.46,0,0,0],\n",
        "           [6.7,0,0,0,5.4,6.83,0,0,0],\n",
        "           [4.6,0,0,0,6.8,8.35,0,0,0],\n",
        "           [0,2.56,5.4,6.8,0,0,10,0,0],\n",
        "           [0,7.46,6.83,8.35,0,0,7.25,2.85,0],\n",
        "           [0,0,0,0,10,7.25,0,0,5.83],\n",
        "           [0,0,0,0,0,2.85,0,0,7.66],\n",
        "           [0,0,0,0,0,0,5.83,7.66,0]]"
      ],
      "metadata": {
        "id": "1Rn0cNC4tEMd"
      },
      "execution_count": 7,
      "outputs": []
    },
    {
      "cell_type": "code",
      "source": [
        "shortest_distance2,path=dijkstra(ad_matrix2,source1)"
      ],
      "metadata": {
        "id": "Y4WPm2DF-Nut"
      },
      "execution_count": 8,
      "outputs": []
    },
    {
      "cell_type": "code",
      "source": [
        "Shortest_path2=backtracking_algorithm(ad_matrix2,source1,8)\n",
        "new_path2=[]\n",
        "for v in Shortest_path2:\n",
        "  new_path2.append(cities[v])\n",
        "\n",
        "path2=\"->\".join(new_path2)\n",
        "print(f'The shortest path for bidyut is {path2}\\n with shortest distance upto Mumbai is:{max(shortest_distance2)*100} Kms')\n"
      ],
      "metadata": {
        "colab": {
          "base_uri": "https://localhost:8080/"
        },
        "id": "16DxRXljvOtQ",
        "outputId": "1a575c82-0156-479f-ac1e-af1264d19029"
      },
      "execution_count": 9,
      "outputs": [
        {
          "output_type": "stream",
          "name": "stdout",
          "text": [
            "The shortest path for bidyut is Silgiri->Patna->Raipur->Nagpur->Mumbai\n",
            " with shortest distance upto Mumbai is:2257.0 Kms\n"
          ]
        }
      ]
    },
    {
      "cell_type": "markdown",
      "source": [
        "***Part4***"
      ],
      "metadata": {
        "id": "zYAuWA25_O7D"
      }
    },
    {
      "cell_type": "markdown",
      "source": [
        "Now Our adjancency matrix will change with the addition of a node corrosponding to bhopal city"
      ],
      "metadata": {
        "id": "8yZOfiHeB9uZ"
      }
    },
    {
      "cell_type": "markdown",
      "source": [
        "Here we will define our adjancency matrix for all the cases and solve the problem accordingly\n",
        "\n",
        "***Case1***: while in Siliguri"
      ],
      "metadata": {
        "id": "uaSSs8bMEGi1"
      }
    },
    {
      "cell_type": "code",
      "source": [
        "ad_matrix3=[[0,4.6,6.7,4.6,0,0,0,0,0,0],\n",
        "           [4.6,0,0,0,2.56,7.46,0,0,0,0],\n",
        "           [6.7,0,0,0,5.4,6.83,0,0,0,0],\n",
        "           [4.6,0,0,0,6.8,8.35,0,0,0,0],\n",
        "           [0,2.56,5.4,6.8,0,0,10,7.36,7.7,0],\n",
        "           [0,7.46,6.83,8.35,0,0,7.25,2.85,6.22,0],\n",
        "           [0,0,0,0,10,7.25,0,0,0,5.83],\n",
        "           [0,0,0,0,7.36,2.85,0,0,0,7.66],\n",
        "            [0,0,0,0,7.7,6.22,0,0,0,7.6],\n",
        "           [0,0,0,0,0,0,5.83,7.66,7.6,0]]"
      ],
      "metadata": {
        "id": "74HkoJJVyur3"
      },
      "execution_count": 10,
      "outputs": []
    },
    {
      "cell_type": "code",
      "source": [
        "cities2=[\"Silgiri\",\"Patna\",\"Jamshedpur\",\"Kolkata\",\"Varanasi\",\"Raipur\",\"Indore\",\"Nagpur\",\"Bhopal\",\"Mumbai\"]\n",
        "\n"
      ],
      "metadata": {
        "id": "iSTDaPVWzYdy"
      },
      "execution_count": 11,
      "outputs": []
    },
    {
      "cell_type": "code",
      "source": [
        "shortest_distance3,path=dijkstra(ad_matrix3,source1)\n",
        "Shortest_path3=backtracking_algorithm(ad_matrix3,source1,9)\n",
        "new_path3=[]\n",
        "for v in Shortest_path3:\n",
        "  new_path3.append(cities2[v])\n",
        "\n",
        "path3=\"->\".join(new_path3)\n",
        "print(f'The shortest path for bidyut is {path3}\\n with shortest distance upto Mumbai for case 1 is:{max(shortest_distance3)*100} Kms')\n"
      ],
      "metadata": {
        "id": "YAo1g1HN0jZP",
        "colab": {
          "base_uri": "https://localhost:8080/"
        },
        "outputId": "442927b4-5938-4e4d-86cd-ae7384dd57ff"
      },
      "execution_count": 12,
      "outputs": [
        {
          "output_type": "stream",
          "name": "stdout",
          "text": [
            "The shortest path for bidyut is Silgiri->Patna->Varanasi->Nagpur->Mumbai\n",
            " with shortest distance upto Mumbai for case 1 is:2218.0 Kms\n"
          ]
        }
      ]
    },
    {
      "cell_type": "markdown",
      "source": [
        "***Case2***\n",
        "\n",
        "Before The call\n",
        "\n",
        "Here The Adjacency Matrix will  remains the same as for case 1 so the results will not change for this case as **well**"
      ],
      "metadata": {
        "id": "9SR_hzqbPBKx"
      }
    },
    {
      "cell_type": "markdown",
      "source": [
        "As the shortest  distance Remains The same So now The Optimal Path will Not Change BUt remains the same for the Case 1"
      ],
      "metadata": {
        "id": "lI0I6wGOJyOp"
      }
    },
    {
      "cell_type": "markdown",
      "source": [
        "***Case3***\n",
        "\n",
        "After The News"
      ],
      "metadata": {
        "id": "ItHiRoTSKuAA"
      }
    },
    {
      "cell_type": "code",
      "source": [
        "ad_matrix4=[[0,4.6,6.7,4.6,0,0,0,0,0,0],\n",
        "           [4.6,0,0,0,2.56,7.46,0,0,0,0],\n",
        "           [6.7,0,0,0,5.4,6.83,0,0,0,0],\n",
        "           [4.6,0,0,0,6.8,8.35,0,0,0,0],\n",
        "           [0,2.56,5.4,6.8,0,0,10,0,7.7,0],\n",
        "           [0,7.46,6.83,8.35,0,0,7.25,2.85,6.22,0],\n",
        "           [0,0,0,0,10,7.25,0,0,0,5.83],\n",
        "           [0,0,0,0,0,2.85,0,0,0,7.66],\n",
        "          [0,0,0,0,7.7,6.22,0,0,0,7.6],\n",
        "           [0,0,0,0,0,0,5.83,7.66,7.6,0]]"
      ],
      "metadata": {
        "id": "FJ6so8MWIPR0"
      },
      "execution_count": 13,
      "outputs": []
    },
    {
      "cell_type": "code",
      "source": [
        "dist4,p4=dijkstra(ad_matrix4,source1)\n",
        "print(f\"The Shortest Distance between Siliguri and Mumbai for the case 3 is {max(dist4)*100} Kms\")\n"
      ],
      "metadata": {
        "colab": {
          "base_uri": "https://localhost:8080/"
        },
        "id": "ruDSo7EKJLfd",
        "outputId": "927fe45d-0b82-4b3b-e6cd-a4b6732e66e3"
      },
      "execution_count": 14,
      "outputs": [
        {
          "output_type": "stream",
          "name": "stdout",
          "text": [
            "The Shortest Distance between Siliguri and Mumbai for the case 3 is 2246.0 Kms\n"
          ]
        }
      ]
    },
    {
      "cell_type": "markdown",
      "source": [
        "Here The Shortest Distance decreases as compared to scenerio without the call hence the path will also changes like:\n",
        "\n",
        "***Siliguri->Patna->Varanasi->Bhopal->Mumbai***\n"
      ],
      "metadata": {
        "id": "tRbAS8pUMRfw"
      }
    },
    {
      "cell_type": "code",
      "source": [
        "Shortest_path4=backtracking_algorithm(ad_matrix4,source1,9)\n",
        "new_path4=[]\n",
        "for v in Shortest_path4:\n",
        "  new_path4.append(cities2[v])\n",
        "\n",
        "\n",
        "path4=\"->\".join(new_path4)\n",
        "print(f'The shortest path for bidyut in case 3 is {path4}\\n with shortest distance upto Mumbai is:{max(dist4)*100} Kms')\n"
      ],
      "metadata": {
        "colab": {
          "base_uri": "https://localhost:8080/"
        },
        "id": "Te4YwCNuLxMt",
        "outputId": "7e2a3758-7aee-402c-ac60-92960c1d19df"
      },
      "execution_count": 15,
      "outputs": [
        {
          "output_type": "stream",
          "name": "stdout",
          "text": [
            "The shortest path for bidyut in case 3 is Silgiri->Patna->Varanasi->Bhopal->Mumbai\n",
            " with shortest distance upto Mumbai is:2246.0 Kms\n"
          ]
        }
      ]
    }
  ]
}