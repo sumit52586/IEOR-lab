{
  "nbformat": 4,
  "nbformat_minor": 0,
  "metadata": {
    "colab": {
      "provenance": []
    },
    "kernelspec": {
      "name": "python3",
      "display_name": "Python 3"
    },
    "language_info": {
      "name": "python"
    }
  },
  "cells": [
    {
      "cell_type": "markdown",
      "source": [
        "##Exercise 1\n",
        "**part1**"
      ],
      "metadata": {
        "id": "xQMVs1SK09Xw"
      }
    },
    {
      "cell_type": "code",
      "execution_count": 4,
      "metadata": {
        "id": "JrJx7dD-08A_"
      },
      "outputs": [],
      "source": [
        "def is_subset_sum_recursive(arr, n, target, subset=[]):\n",
        "    # Base Cases\n",
        "    if target == 0:\n",
        "        print(\"Subset with the given sum exists:\", subset)\n",
        "        return True\n",
        "    if n == 0 and target != 0:\n",
        "        return False\n",
        "    # If last element is greater than target, ignore it\n",
        "    if arr[n - 1] > target:\n",
        "        return is_subset_sum_recursive(arr, n - 1, target, subset)\n",
        "    # Check if sum can be obtained by including or excluding the last element\n",
        "    return (is_subset_sum_recursive(arr, n - 1, target, subset) or\n",
        "            is_subset_sum_recursive(arr, n - 1, target - arr[n - 1], subset + [arr[n - 1]]))\n",
        "\n"
      ]
    },
    {
      "cell_type": "markdown",
      "source": [
        "**part2**"
      ],
      "metadata": {
        "id": "x6wU1Fg52gK2"
      }
    },
    {
      "cell_type": "code",
      "source": [
        "import time\n",
        "\n",
        "# Algorithm 1: Recursive approach\n",
        "def is_subset_sum_recursive(arr, n, target, subset=[]):\n",
        "    # Base Cases\n",
        "    if target == 0:\n",
        "        print(\"Subset with the given sum exists:\", subset)\n",
        "        return True\n",
        "    if n == 0 and target != 0:\n",
        "        return False\n",
        "    # If last element is greater than target, ignore it\n",
        "    if arr[n - 1] > target:\n",
        "        return is_subset_sum_recursive(arr, n - 1, target, subset)\n",
        "    # Check if sum can be obtained by including or excluding the last element\n",
        "    return (is_subset_sum_recursive(arr, n - 1, target, subset) or\n",
        "            is_subset_sum_recursive(arr, n - 1, target - arr[n - 1], subset + [arr[n - 1]]))\n",
        "\n",
        "# Given sets and targets\n",
        "sets = [\n",
        "    [2, 4, 6, 8, 9, 9, 9, 10, 12, 14, 16, 18, 20, 22, 24],\n",
        "    [3, 3, 5, 7, 9, 11, 12, 12, 12, 13, 15, 17, 19, 21, 23],\n",
        "    [3, 4, 6, 6, 9, 11, 11, 12, 15, 17, 17, 17, 18, 21, 21, 24],\n",
        "    [2, 3, 4, 7, 11, 11, 12, 13, 13, 14, 14, 16, 19, 21, 22, 24]\n",
        "]\n",
        "targets = [140, 165, 182]\n",
        "\n",
        "# Apply algorithm for each set and each target\n",
        "for i, s in enumerate(sets):\n",
        "    for t in targets:\n",
        "        start_time = time.time()\n",
        "        print(f\"Set {i+1}, Target {t}:\")\n",
        "        found_recursive = is_subset_sum_recursive(s, len(s), t)\n",
        "        if not found_recursive:\n",
        "            print(\"No Subset Found with given sum (Recursive)\")\n",
        "        end_time = time.time()\n",
        "        print(\"Time taken (Recursive):\", end_time - start_time, \"seconds\")\n",
        "        print()\n",
        "\n",
        "\n"
      ],
      "metadata": {
        "colab": {
          "base_uri": "https://localhost:8080/"
        },
        "id": "ibOWaNcG2Chi",
        "outputId": "d971a76f-3b3f-4057-880e-90773dfb0bbf"
      },
      "execution_count": 9,
      "outputs": [
        {
          "output_type": "stream",
          "name": "stdout",
          "text": [
            "Set 1, Target 140:\n",
            "Subset with the given sum exists: [22, 20, 18, 16, 14, 12, 9, 9, 8, 6, 4, 2]\n",
            "Time taken (Recursive): 0.014176368713378906 seconds\n",
            "\n",
            "Set 1, Target 165:\n",
            "Subset with the given sum exists: [24, 22, 20, 16, 14, 12, 10, 9, 9, 9, 8, 6, 4, 2]\n",
            "Time taken (Recursive): 0.0216825008392334 seconds\n",
            "\n",
            "Set 1, Target 182:\n",
            "No Subset Found with given sum (Recursive)\n",
            "Time taken (Recursive): 0.022544145584106445 seconds\n",
            "\n",
            "Set 2, Target 140:\n",
            "Subset with the given sum exists: [21, 17, 15, 13, 12, 12, 12, 11, 9, 7, 5, 3, 3]\n",
            "Time taken (Recursive): 0.009466886520385742 seconds\n",
            "\n",
            "Set 2, Target 165:\n",
            "Subset with the given sum exists: [23, 21, 19, 15, 13, 12, 12, 12, 11, 9, 7, 5, 3, 3]\n",
            "Time taken (Recursive): 0.01955699920654297 seconds\n",
            "\n",
            "Set 2, Target 182:\n",
            "Subset with the given sum exists: [23, 21, 19, 17, 15, 13, 12, 12, 12, 11, 9, 7, 5, 3, 3]\n",
            "Time taken (Recursive): 0.0225069522857666 seconds\n",
            "\n",
            "Set 3, Target 140:\n",
            "Subset with the given sum exists: [18, 17, 17, 17, 15, 12, 11, 11, 9, 6, 4, 3]\n",
            "Time taken (Recursive): 0.006175994873046875 seconds\n",
            "\n",
            "Set 3, Target 165:\n",
            "Subset with the given sum exists: [21, 21, 18, 17, 17, 15, 12, 11, 11, 9, 6, 4, 3]\n",
            "Time taken (Recursive): 0.020821809768676758 seconds\n",
            "\n",
            "Set 3, Target 182:\n",
            "Subset with the given sum exists: [21, 21, 18, 17, 17, 17, 15, 12, 11, 11, 9, 6, 4, 3]\n",
            "Time taken (Recursive): 0.022557497024536133 seconds\n",
            "\n",
            "Set 4, Target 140:\n",
            "Subset with the given sum exists: [21, 19, 14, 14, 13, 13, 12, 11, 11, 7, 3, 2]\n",
            "Time taken (Recursive): 0.010591983795166016 seconds\n",
            "\n",
            "Set 4, Target 165:\n",
            "Subset with the given sum exists: [22, 21, 19, 16, 14, 13, 13, 12, 11, 11, 7, 4, 2]\n",
            "Time taken (Recursive): 0.02103590965270996 seconds\n",
            "\n",
            "Set 4, Target 182:\n",
            "Subset with the given sum exists: [22, 21, 19, 16, 14, 14, 13, 13, 12, 11, 11, 7, 4, 3, 2]\n",
            "Time taken (Recursive): 0.024929523468017578 seconds\n",
            "\n"
          ]
        }
      ]
    },
    {
      "cell_type": "markdown",
      "source": [
        "**part3**"
      ],
      "metadata": {
        "id": "wB-JBu1V2qzZ"
      }
    },
    {
      "cell_type": "code",
      "source": [
        "def subset_sum(numbers, target_sum):\n",
        "    n = len(numbers)\n",
        "    dp = [[False] * (target_sum + 1) for _ in range(n + 1)]\n",
        "    # Base case initialization (when sum is 0)\n",
        "    for i in range(n + 1):\n",
        "        dp[i][0] = True\n",
        "    # Fill the dp table\n",
        "    for i in range(1, n + 1):\n",
        "        for j in range(1, target_sum + 1):\n",
        "            # If the current number is greater than the target sum,\n",
        "            # then the current number cannot be included in the subset\n",
        "            if numbers[i - 1] > j:\n",
        "                dp[i][j] = dp[i - 1][j]\n",
        "            else:\n",
        "                # Check if it's possible to achieve the target sum\n",
        "                # by either including or excluding the current number\n",
        "                dp[i][j] = dp[i - 1][j] or dp[i - 1][j - numbers[i - 1]]\n",
        "    # Trace back to find the elements included in the subset sum\n",
        "    subset = []\n",
        "    i, j = n, target_sum\n",
        "    while i > 0 and j > 0:\n",
        "        if dp[i][j] and not dp[i - 1][j]:\n",
        "            subset.append(numbers[i - 1])\n",
        "            j -= numbers[i - 1]\n",
        "        i -= 1\n",
        "    return dp[n][target_sum], subset[::-1]\n"
      ],
      "metadata": {
        "id": "Py69wFi720JU"
      },
      "execution_count": 6,
      "outputs": []
    },
    {
      "cell_type": "markdown",
      "source": [
        "**part4**"
      ],
      "metadata": {
        "id": "5lg4iiUQ3LJE"
      }
    },
    {
      "cell_type": "code",
      "source": [
        "import time\n",
        "\n",
        "# Algorithm 2: Dynamic programming approach\n",
        "def subset_sum(numbers, target_sum):\n",
        "    n = len(numbers)\n",
        "    dp = [[False] * (target_sum + 1) for _ in range(n + 1)]\n",
        "    # Base case initialization (when sum is 0)\n",
        "    for i in range(n + 1):\n",
        "        dp[i][0] = True\n",
        "    # Fill the dp table\n",
        "    for i in range(1, n + 1):\n",
        "        for j in range(1, target_sum + 1):\n",
        "            # If the current number is greater than the target sum,\n",
        "            # then the current number cannot be included in the subset\n",
        "            if numbers[i - 1] > j:\n",
        "                dp[i][j] = dp[i - 1][j]\n",
        "            else:\n",
        "                # Check if it's possible to achieve the target sum\n",
        "                # by either including or excluding the current number\n",
        "                dp[i][j] = dp[i - 1][j] or dp[i - 1][j - numbers[i - 1]]\n",
        "    # Trace back to find the elements included in the subset sum\n",
        "    subset = []\n",
        "    i, j = n, target_sum\n",
        "    while i > 0 and j > 0:\n",
        "        if dp[i][j] and not dp[i - 1][j]:\n",
        "            subset.append(numbers[i - 1])\n",
        "            j -= numbers[i - 1]\n",
        "        i -= 1\n",
        "    return dp[n][target_sum], subset[::-1]\n",
        "\n",
        "# Given sets and targets\n",
        "sets = [\n",
        "    [2, 4, 6, 8, 9, 9, 9, 10, 12, 14, 16, 18, 20, 22, 24],\n",
        "    [3, 3, 5, 7, 9, 11, 12, 12, 12, 13, 15, 17, 19, 21, 23],\n",
        "    [3, 4, 6, 6, 9, 11, 11, 12, 15, 17, 17, 17, 18, 21, 21, 24],\n",
        "    [2, 3, 4, 7, 11, 11, 12, 13, 13, 14, 14, 16, 19, 21, 22, 24]\n",
        "]\n",
        "targets = [140, 165, 182]\n",
        "\n",
        "# Apply algorithm for each set and each target\n",
        "for i, s in enumerate(sets):\n",
        "    for t in targets:\n",
        "        start_time = time.time()\n",
        "        print(f\"Set {i+1}, Target {t}:\")\n",
        "        found_dp, subset = subset_sum(s, t)\n",
        "        if found_dp:\n",
        "            print(\"Subset Found:\", subset)\n",
        "        else:\n",
        "            print(\"No Subset Found with given sum\")\n",
        "        end_time = time.time()\n",
        "        print(\"Time taken:\", end_time - start_time, \"seconds\")\n",
        "        print()\n"
      ],
      "metadata": {
        "colab": {
          "base_uri": "https://localhost:8080/"
        },
        "id": "uBevmswR3ND-",
        "outputId": "b07164d0-52cd-48e9-aa9a-276d9a592434"
      },
      "execution_count": 7,
      "outputs": [
        {
          "output_type": "stream",
          "name": "stdout",
          "text": [
            "Set 1, Target 140:\n",
            "Subset Found: [2, 4, 6, 8, 9, 9, 12, 14, 16, 18, 20, 22]\n",
            "Time taken: 0.002705812454223633 seconds\n",
            "\n",
            "Set 1, Target 165:\n",
            "Subset Found: [2, 4, 6, 8, 9, 9, 9, 10, 12, 14, 16, 20, 22, 24]\n",
            "Time taken: 0.003331422805786133 seconds\n",
            "\n",
            "Set 1, Target 182:\n",
            "No Subset Found with given sum\n",
            "Time taken: 0.0008442401885986328 seconds\n",
            "\n",
            "Set 2, Target 140:\n",
            "Subset Found: [3, 3, 5, 7, 9, 11, 12, 12, 12, 13, 15, 17, 21]\n",
            "Time taken: 0.0006542205810546875 seconds\n",
            "\n",
            "Set 2, Target 165:\n",
            "Subset Found: [3, 3, 5, 7, 9, 11, 12, 12, 12, 13, 15, 19, 21, 23]\n",
            "Time taken: 0.0007565021514892578 seconds\n",
            "\n",
            "Set 2, Target 182:\n",
            "Subset Found: [3, 3, 5, 7, 9, 11, 12, 12, 12, 13, 15, 17, 19, 21, 23]\n",
            "Time taken: 0.0008084774017333984 seconds\n",
            "\n",
            "Set 3, Target 140:\n",
            "Subset Found: [3, 4, 6, 9, 11, 11, 12, 15, 17, 17, 17, 18]\n",
            "Time taken: 0.0006301403045654297 seconds\n",
            "\n",
            "Set 3, Target 165:\n",
            "Subset Found: [3, 4, 6, 9, 11, 11, 12, 15, 17, 17, 18, 21, 21]\n",
            "Time taken: 0.0007321834564208984 seconds\n",
            "\n",
            "Set 3, Target 182:\n",
            "Subset Found: [3, 4, 6, 9, 11, 11, 12, 15, 17, 17, 17, 18, 21, 21]\n",
            "Time taken: 0.0008404254913330078 seconds\n",
            "\n",
            "Set 4, Target 140:\n",
            "Subset Found: [2, 3, 7, 11, 11, 12, 13, 13, 14, 14, 19, 21]\n",
            "Time taken: 0.0006623268127441406 seconds\n",
            "\n",
            "Set 4, Target 165:\n",
            "Subset Found: [2, 4, 7, 11, 11, 12, 13, 13, 14, 16, 19, 21, 22]\n",
            "Time taken: 0.0007598400115966797 seconds\n",
            "\n",
            "Set 4, Target 182:\n",
            "Subset Found: [2, 3, 4, 7, 11, 11, 12, 13, 13, 14, 14, 16, 19, 21, 22]\n",
            "Time taken: 0.0008244514465332031 seconds\n",
            "\n"
          ]
        }
      ]
    },
    {
      "cell_type": "markdown",
      "source": [
        "**part5**"
      ],
      "metadata": {
        "id": "9CTJCxzW4OCz"
      }
    },
    {
      "cell_type": "code",
      "source": [
        "# Sets and Targets\n",
        "Set1 = {2, 4, 6, 8, 9, 9, 9, 10, 12, 14, 16, 18, 20, 22, 24}\n",
        "Set2 = {3, 3, 5, 7, 9, 11, 12, 12, 12, 13, 15, 17, 19, 21, 23}\n",
        "Set3 = {3, 4, 6, 6, 9, 11, 11, 12, 15, 17, 17, 17, 18, 21, 21, 24}\n",
        "Set4 = {2, 3, 4, 7, 11, 11, 12, 13, 13, 14, 14, 16, 19, 21, 22, 24}\n",
        "\n",
        "Target1 = 140\n",
        "Target2 = 165\n",
        "Target3 = 182\n",
        "\n",
        "# List of Sets\n",
        "sets = [Set1, Set2, Set3, Set4]\n",
        "\n",
        "# List of Targets\n",
        "targets = [Target1, Target2, Target3]\n"
      ],
      "metadata": {
        "id": "K9g_DLVL8LZJ"
      },
      "execution_count": 10,
      "outputs": []
    },
    {
      "cell_type": "code",
      "source": [
        "import matplotlib.pyplot as plt\n",
        "\n",
        "# Worst-case time taken for Recursive approach\n",
        "recursive_times = [\n",
        "    [0.014176368713378906, 0.0216825008392334, 0.022544145584106445],\n",
        "    [0.009466886520385742, 0.01955699920654297, 0.0225069522857666],\n",
        "    [0.006175994873046875, 0.020821809768676758, 0.022557497024536133],\n",
        "    [0.010591983795166016, 0.02103590965270996, 0.024929523468017578]\n",
        "]\n",
        "\n",
        "# Worst-case time taken for Dynamic Programming approach\n",
        "dp_times = [\n",
        "    [0.002705812454223633, 0.003331422805786133, 0.0008442401885986328],\n",
        "    [0.0006542205810546875, 0.0007565021514892578, 0.0008084774017333984],\n",
        "    [0.0006301403045654297, 0.0007321834564208984, 0.0008404254913330078],\n",
        "    [0.0006623268127441406, 0.0007598400115966797, 0.0008244514465332031]\n",
        "]\n",
        "\n",
        "# Input sizes (number of elements in each set)\n",
        "input_sizes = [len(s) for s in sets]\n",
        "\n",
        "\n",
        "\n",
        "# Transpose recursive_times\n",
        "recursive_times_transpose = list(map(list, zip(*recursive_times)))\n",
        "\n",
        "# Input sizes (number of elements in each set)\n",
        "input_sizes = [len(s) for s in sets]\n",
        "\n"
      ],
      "metadata": {
        "id": "N9kGfy7_8TE7"
      },
      "execution_count": 15,
      "outputs": []
    },
    {
      "cell_type": "code",
      "source": [
        "dp_times_transpose = list(map(list, zip(*dp_times)))\n",
        "\n"
      ],
      "metadata": {
        "id": "RrYZ25C_-no2"
      },
      "execution_count": 16,
      "outputs": []
    },
    {
      "cell_type": "code",
      "source": [
        "import matplotlib.pyplot as plt\n",
        "\n",
        "# Function to find the maximum time taken for each input size\n",
        "def find_max_times(times):\n",
        "    max_times = []\n",
        "    for i in range(len(times[0])):\n",
        "        max_time = max([times[j][i] for j in range(len(times))])\n",
        "        max_times.append(max_time)\n",
        "    return max_times\n",
        "\n",
        "# Find the maximum times for Recursive and DP approaches\n",
        "max_recursive_times = find_max_times(recursive_times_transpose)\n",
        "max_dp_times = find_max_times(dp_times_transpose)\n",
        "\n",
        "# Plotting the graph\n",
        "plt.figure(figsize=(10, 6))\n",
        "\n",
        "# Plot Recursive approach\n",
        "plt.plot(input_sizes, max_recursive_times, marker='o', label='Recursive')\n",
        "\n",
        "# Plot Dynamic Programming approach\n",
        "plt.plot(input_sizes, max_dp_times, marker='o', linestyle='--', label='Dynamic Programming')\n",
        "\n",
        "plt.title('Input Size vs Worst-Case Time Taken for Subset Sum Algorithms')\n",
        "plt.xlabel('Input Size (Number of Elements)')\n",
        "plt.ylabel('Worst-Case Time Taken (Seconds)')\n",
        "plt.legend()\n",
        "plt.grid(True)\n",
        "plt.show()\n"
      ],
      "metadata": {
        "colab": {
          "base_uri": "https://localhost:8080/",
          "height": 564
        },
        "id": "GdebnObT_bFY",
        "outputId": "5d380c49-5df4-4abd-c788-366d4857eaba"
      },
      "execution_count": 17,
      "outputs": [
        {
          "output_type": "display_data",
          "data": {
            "text/plain": [
              "<Figure size 1000x600 with 1 Axes>"
            ],
            "image/png": "[encoded data removed]"
          },
          "metadata": {}
        }
      ]
    }
  ]
}