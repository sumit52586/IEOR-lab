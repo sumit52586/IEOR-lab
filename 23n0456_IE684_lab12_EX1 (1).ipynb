{
  "cells": [
    {
      "cell_type": "markdown",
      "metadata": {
        "id": "eT9wt3t5gUiO"
      },
      "source": [
        "#exercise 1\n",
        "##part1\n",
        "The DFJ (Dantzig-Fulkerson-Johnson) formulation of the Traveling Salesman Problem (TSP) ensures that it generates exactly feasible tours by incorporating constraints that enforce the key characteristics of a TSP tour:\n",
        "\n",
        "Every city is visited once and left once: This constraint ensures that each city is included in the tour exactly once, guaranteeing that the tour visits all cities.\n",
        "\n",
        "The constraint is represented as:\n",
        "\n",
        "$ \\sum_{e \\in \\delta(i)} x_e = 2, \\forall i \\in V $\n",
        "\n",
        "Here, $ \\delta(i) $ represents the set of edges incident on vertex $ i $. This constraint ensures that each city is entered and exited exactly once.\n",
        "\n",
        "Elimination of sub-tours: This constraint prevents the formation of sub-tours, ensuring that the tour is connected and does not visit the same city multiple times without returning to the starting city.\n",
        "\n",
        "The constraint is represented as:\n",
        "\n",
        "$ \\sum_{e \\in \\delta(S)} x_e \\geq 2, \\forall \\phi \\subset S \\subset V $\n",
        "\n",
        "Here, $ \\delta(S) $ represents the set of edges incident on exactly one vertex of the subset $ S $ of $ V $. This constraint ensures that any subset of cities (excluding the entire set) must have at least two edges incident upon it, preventing the formation of sub-tours.\n",
        "\n",
        "Binary variable constraints: The binary variable constraint ensures that each edge is either included in the tour (assigned a value of 1) or excluded from the tour (assigned a value of 0). This constraint is crucial for defining a feasible tour and ensuring that the optimization problem accurately represents the TSP.\n",
        "\n",
        "$ x_e \\in \\{0, 1\\}, \\forall e \\in E $\n",
        "\n",
        "By incorporating these constraints, the DFJ formulation guarantees that the solution will represent a feasible tour that visits each city exactly once and returns to the original city, satisfying the requirements of the Traveling Salesman Problem. The formulation effectively models the essential characteristics of a TSP tour, ensuring that any solution generated adheres to the problem's constraints. Therefore, the DFJ formulation reliably produces exactly feasible tours for the TSP.\n"
      ]
    },
    {
      "cell_type": "code",
      "execution_count": 1,
      "metadata": {
        "colab": {
          "base_uri": "https://localhost:8080/"
        },
        "id": "EHr7hm7qau3f",
        "outputId": "8cdcf208-d8c4-4bd6-d020-b6cc55356814"
      },
      "outputs": [
        {
          "output_type": "stream",
          "name": "stdout",
          "text": [
            "Collecting pulp\n",
            "  Downloading PuLP-2.8.0-py3-none-any.whl (17.7 MB)\n",
            "\u001b[2K     \u001b[90m━━━━━━━━━━━━━━━━━━━━━━━━━━━━━━━━━━━━━━━━\u001b[0m \u001b[32m17.7/17.7 MB\u001b[0m \u001b[31m46.0 MB/s\u001b[0m eta \u001b[36m0:00:00\u001b[0m\n",
            "\u001b[?25hInstalling collected packages: pulp\n",
            "Successfully installed pulp-2.8.0\n"
          ]
        }
      ],
      "source": [
        "pip install pulp"
      ]
    },
    {
      "cell_type": "code",
      "source": [
        "!pip install -q pyomo"
      ],
      "metadata": {
        "colab": {
          "base_uri": "https://localhost:8080/"
        },
        "id": "YaZ0bIbGCn0v",
        "outputId": "248adc9b-cdc9-463e-f94a-6caf71556a65"
      },
      "execution_count": 2,
      "outputs": [
        {
          "output_type": "stream",
          "name": "stdout",
          "text": [
            "\u001b[2K     \u001b[90m━━━━━━━━━━━━━━━━━━━━━━━━━━━━━━━━━━━━━━━━\u001b[0m \u001b[32m12.7/12.7 MB\u001b[0m \u001b[31m37.0 MB/s\u001b[0m eta \u001b[36m0:00:00\u001b[0m\n",
            "\u001b[2K     \u001b[90m━━━━━━━━━━━━━━━━━━━━━━━━━━━━━━━━━━━━━━━━\u001b[0m \u001b[32m49.6/49.6 kB\u001b[0m \u001b[31m5.2 MB/s\u001b[0m eta \u001b[36m0:00:00\u001b[0m\n",
            "\u001b[?25h"
          ]
        }
      ]
    },
    {
      "cell_type": "code",
      "source": [
        "from pyomo.environ import *"
      ],
      "metadata": {
        "id": "tICOS3NTCsJE"
      },
      "execution_count": 3,
      "outputs": []
    },
    {
      "cell_type": "code",
      "source": [
        "!apt-get install -y -qq glpk-utils"
      ],
      "metadata": {
        "colab": {
          "base_uri": "https://localhost:8080/"
        },
        "id": "tuA8_cK5C26h",
        "outputId": "590bc31c-e112-4ec3-9eb4-b245371dc0b4"
      },
      "execution_count": 4,
      "outputs": [
        {
          "output_type": "stream",
          "name": "stdout",
          "text": [
            "Selecting previously unselected package libsuitesparseconfig5:amd64.\n",
            "(Reading database ... 121752 files and directories currently installed.)\n",
            "Preparing to unpack .../libsuitesparseconfig5_1%3a5.10.1+dfsg-4build1_amd64.deb ...\n",
            "Unpacking libsuitesparseconfig5:amd64 (1:5.10.1+dfsg-4build1) ...\n",
            "Selecting previously unselected package libamd2:amd64.\n",
            "Preparing to unpack .../libamd2_1%3a5.10.1+dfsg-4build1_amd64.deb ...\n",
            "Unpacking libamd2:amd64 (1:5.10.1+dfsg-4build1) ...\n",
            "Selecting previously unselected package libcolamd2:amd64.\n",
            "Preparing to unpack .../libcolamd2_1%3a5.10.1+dfsg-4build1_amd64.deb ...\n",
            "Unpacking libcolamd2:amd64 (1:5.10.1+dfsg-4build1) ...\n",
            "Selecting previously unselected package libglpk40:amd64.\n",
            "Preparing to unpack .../libglpk40_5.0-1_amd64.deb ...\n",
            "Unpacking libglpk40:amd64 (5.0-1) ...\n",
            "Selecting previously unselected package glpk-utils.\n",
            "Preparing to unpack .../glpk-utils_5.0-1_amd64.deb ...\n",
            "Unpacking glpk-utils (5.0-1) ...\n",
            "Setting up libsuitesparseconfig5:amd64 (1:5.10.1+dfsg-4build1) ...\n",
            "Setting up libamd2:amd64 (1:5.10.1+dfsg-4build1) ...\n",
            "Setting up libcolamd2:amd64 (1:5.10.1+dfsg-4build1) ...\n",
            "Setting up libglpk40:amd64 (5.0-1) ...\n",
            "Setting up glpk-utils (5.0-1) ...\n",
            "Processing triggers for man-db (2.10.2-1) ...\n",
            "Processing triggers for libc-bin (2.35-0ubuntu3.4) ...\n",
            "/sbin/ldconfig.real: /usr/local/lib/libtbb.so.12 is not a symbolic link\n",
            "\n",
            "/sbin/ldconfig.real: /usr/local/lib/libtbbbind_2_5.so.3 is not a symbolic link\n",
            "\n",
            "/sbin/ldconfig.real: /usr/local/lib/libtbbbind.so.3 is not a symbolic link\n",
            "\n",
            "/sbin/ldconfig.real: /usr/local/lib/libtbbmalloc_proxy.so.2 is not a symbolic link\n",
            "\n",
            "/sbin/ldconfig.real: /usr/local/lib/libtbbmalloc.so.2 is not a symbolic link\n",
            "\n",
            "/sbin/ldconfig.real: /usr/local/lib/libtbbbind_2_0.so.3 is not a symbolic link\n",
            "\n"
          ]
        }
      ]
    },
    {
      "cell_type": "code",
      "execution_count": 5,
      "metadata": {
        "colab": {
          "base_uri": "https://localhost:8080/"
        },
        "id": "Y7BGqXRQGs6R",
        "outputId": "9facf9dc-9e67-4d30-8fd7-71755d326dee"
      },
      "outputs": [
        {
          "output_type": "stream",
          "name": "stdout",
          "text": [
            "{('KANPUR', 'BOMBAY'): 1289, ('KHARAGPUR', 'BOMBAY'): 1753, ('MADRAS', 'BOMBAY'): 1364, ('DELHI', 'BOMBAY'): 1432, ('GUWAHATI', 'BOMBAY'): 2586, ('ROORKEE', 'BOMBAY'): 1594, ('KHARAGPUR', 'KANPUR'): 1167, ('MADRAS', 'KANPUR'): 1868, ('DELHI', 'KANPUR'): 495, ('GUWAHATI', 'KANPUR'): 1432, ('ROORKEE', 'KANPUR'): 630, ('MADRAS', 'KHARAGPUR'): 1562, ('DELHI', 'KHARAGPUR'): 1567, ('GUWAHATI', 'KHARAGPUR'): 1057, ('ROORKEE', 'KHARAGPUR'): 1703, ('DELHI', 'MADRAS'): 2207, ('GUWAHATI', 'MADRAS'): 2643, ('ROORKEE', 'MADRAS'): 2343, ('GUWAHATI', 'DELHI'): 1891, ('ROORKEE', 'DELHI'): 212, ('ROORKEE', 'GUWAHATI'): 2055}\n"
          ]
        }
      ],
      "source": [
        "distances = {\n",
        "    (\"BOMBAY\", \"KANPUR\"): 1289,\n",
        "    (\"BOMBAY\", \"KHARAGPUR\"): 1753,\n",
        "    (\"BOMBAY\", \"MADRAS\"): 1364,\n",
        "    (\"BOMBAY\", \"DELHI\"): 1432,\n",
        "    (\"BOMBAY\", \"GUWAHATI\"): 2586,\n",
        "    (\"BOMBAY\", \"ROORKEE\"): 1594,\n",
        "    (\"KANPUR\", \"KHARAGPUR\"): 1167,\n",
        "    (\"KANPUR\", \"MADRAS\"): 1868,\n",
        "    (\"KANPUR\", \"DELHI\"): 495,\n",
        "    (\"KANPUR\", \"GUWAHATI\"): 1432,\n",
        "    (\"KANPUR\", \"ROORKEE\"): 630,\n",
        "    (\"KHARAGPUR\", \"MADRAS\"): 1562,\n",
        "    (\"KHARAGPUR\", \"DELHI\"): 1567,\n",
        "    (\"KHARAGPUR\", \"GUWAHATI\"): 1057,\n",
        "    (\"KHARAGPUR\", \"ROORKEE\"): 1703,\n",
        "    (\"MADRAS\", \"DELHI\"): 2207,\n",
        "    (\"MADRAS\", \"GUWAHATI\"): 2643,\n",
        "    (\"MADRAS\", \"ROORKEE\"): 2343,\n",
        "    (\"DELHI\", \"GUWAHATI\"): 1891,\n",
        "    (\"DELHI\", \"ROORKEE\"): 212,\n",
        "    (\"GUWAHATI\", \"ROORKEE\"): 2055\n",
        "}\n",
        "\n",
        "# Create a new dictionary to store the reversed distances\n",
        "reversed_distances = {}\n",
        "\n",
        "# Iterate over the keys in the distances dictionary\n",
        "for key, value in distances.items():\n",
        "    # Swap the elements in the key tuple to create the reverse key\n",
        "    reverse_key = (key[1], key[0])\n",
        "    # Assign the same distance value to the reverse key\n",
        "    reversed_distances[reverse_key] = value\n",
        "\n",
        "# Print the reversed distances dictionary\n",
        "print(reversed_distances)\n"
      ]
    },
    {
      "cell_type": "code",
      "execution_count": 6,
      "metadata": {
        "id": "jMCgnXslHAkd"
      },
      "outputs": [],
      "source": [
        "distances.update(reversed_distances)"
      ]
    },
    {
      "cell_type": "code",
      "execution_count": 7,
      "metadata": {
        "colab": {
          "base_uri": "https://localhost:8080/"
        },
        "id": "l3ZmZHhfHF8K",
        "outputId": "5d6746df-fcaa-44f8-bce8-20d6b0113858"
      },
      "outputs": [
        {
          "output_type": "stream",
          "name": "stdout",
          "text": [
            "{(1, 2): 1289, (1, 3): 1753, (1, 4): 1364, (1, 5): 1432, (1, 6): 2586, (1, 7): 1594, (2, 3): 1167, (2, 4): 1868, (2, 5): 495, (2, 6): 1432, (2, 7): 630, (3, 4): 1562, (3, 5): 1567, (3, 6): 1057, (3, 7): 1703, (4, 5): 2207, (4, 6): 2643, (4, 7): 2343, (5, 6): 1891, (5, 7): 212, (6, 7): 2055}\n"
          ]
        }
      ],
      "source": [
        "distances = {\n",
        "    (\"BOMBAY\", \"KANPUR\"): 1289,\n",
        "    (\"BOMBAY\", \"KHARAGPUR\"): 1753,\n",
        "    (\"BOMBAY\", \"MADRAS\"): 1364,\n",
        "    (\"BOMBAY\", \"DELHI\"): 1432,\n",
        "    (\"BOMBAY\", \"GUWAHATI\"): 2586,\n",
        "    (\"BOMBAY\", \"ROORKEE\"): 1594,\n",
        "    (\"KANPUR\", \"KHARAGPUR\"): 1167,\n",
        "    (\"KANPUR\", \"MADRAS\"): 1868,\n",
        "    (\"KANPUR\", \"DELHI\"): 495,\n",
        "    (\"KANPUR\", \"GUWAHATI\"): 1432,\n",
        "    (\"KANPUR\", \"ROORKEE\"): 630,\n",
        "    (\"KHARAGPUR\", \"MADRAS\"): 1562,\n",
        "    (\"KHARAGPUR\", \"DELHI\"): 1567,\n",
        "    (\"KHARAGPUR\", \"GUWAHATI\"): 1057,\n",
        "    (\"KHARAGPUR\", \"ROORKEE\"): 1703,\n",
        "    (\"MADRAS\", \"DELHI\"): 2207,\n",
        "    (\"MADRAS\", \"GUWAHATI\"): 2643,\n",
        "    (\"MADRAS\", \"ROORKEE\"): 2343,\n",
        "    (\"DELHI\", \"GUWAHATI\"): 1891,\n",
        "    (\"DELHI\", \"ROORKEE\"): 212,\n",
        "    (\"GUWAHATI\", \"ROORKEE\"): 2055\n",
        "}\n",
        "\n",
        "city_key_mapping = {1: 'BOMBAY', 2: 'KANPUR', 3: 'KHARAGPUR', 4: 'MADRAS', 5: 'DELHI', 6: 'GUWAHATI', 7: 'ROORKEE'}\n",
        "\n",
        "# Create a new dictionary to store distances with key values instead of city names\n",
        "new_distances = {}\n",
        "\n",
        "# Iterate over the keys and values of the distances dictionary\n",
        "for (city1, city2), distance in distances.items():\n",
        "    # Get the key values corresponding to the city names\n",
        "    key1 = next(key for key, value in city_key_mapping.items() if value == city1)\n",
        "    key2 = next(key for key, value in city_key_mapping.items() if value == city2)\n",
        "    # Add the distance to the new dictionary with key values\n",
        "    new_distances[(key1, key2)] = distance\n",
        "\n",
        "# Print the new distances dictionary\n",
        "print(new_distances)\n",
        "\n",
        "\n",
        "\n",
        "\n",
        "\n"
      ]
    },
    {
      "cell_type": "code",
      "execution_count": 8,
      "metadata": {
        "id": "GHFe-D5bZpWk"
      },
      "outputs": [],
      "source": [
        "reversed_distances = {}\n",
        "\n",
        "# Iterate over the keys in the distances dictionary\n",
        "for key, value in new_distances.items():\n",
        "    # Swap the elements in the key tuple to create the reverse key\n",
        "    reverse_key = (key[1], key[0])\n",
        "    # Assign the same distance value to the reverse key\n",
        "    reversed_distances[reverse_key] = value\n",
        "\n"
      ]
    },
    {
      "cell_type": "code",
      "execution_count": 9,
      "metadata": {
        "id": "JgzMXJRgYq2F"
      },
      "outputs": [],
      "source": [
        "new_distances.update(reversed_distances)\n",
        "import itertools\n"
      ]
    },
    {
      "cell_type": "code",
      "execution_count": 22,
      "metadata": {
        "id": "DvxYR5eqJv5t",
        "colab": {
          "base_uri": "https://localhost:8080/"
        },
        "outputId": "ebfeaaa4-efb0-416d-9506-6e39129090c0"
      },
      "outputs": [
        {
          "output_type": "stream",
          "name": "stdout",
          "text": [
            "Objective Function Value: 6179.0\n",
            "x[1, 4] = 1.0\n",
            "x[2, 5] = 1.0\n",
            "x[3, 6] = 1.0\n",
            "x[5, 7] = 1.0\n",
            "x[4, 1] = 1.0\n",
            "x[7, 2] = 1.0\n",
            "x[6, 3] = 1.0\n"
          ]
        }
      ],
      "source": [
        "from pulp import *\n",
        "cities=[i for i in range(1,8)]\n",
        "\n",
        "# Create a new minimization problem\n",
        "model = LpProblem(\"TSP Problem\", LpMinimize)\n",
        "\n",
        "# Define the decision variables\n",
        "x = LpVariable.dicts(\"x\", new_distances.keys(), cat=LpBinary)\n",
        "\n",
        "# Define the objective function\n",
        "model += lpSum(new_distances[(i, j)] * x[(i, j)] for i, j in new_distances.keys())\n",
        "\n",
        "# Define the constraints\n",
        "for cit in cities:\n",
        "    model += lpSum(x[(i, j)] for i, j in new_distances.keys() if i == cit) == 1\n",
        "    model += lpSum(x[(i, j)] for i, j in new_distances.keys() if j == cit) == 1\n",
        "\n",
        "# Start and end at Bombay\n",
        "model += lpSum(x[(1, j)] for j in cities if j != 1) == 1  # Outgoing edges from Bombay\n",
        "model += lpSum(x[(i, 1)] for i in cities if i != 1) == 1  # Incoming edges to Bombay\n",
        "\n",
        "# Add constraint: x_ij must equal x_ji\n",
        "\n",
        "\n",
        "# Solve the problem\n",
        "model.solve()\n",
        "\n",
        "# Print the optimal objective value\n",
        "print(\"Objective Function Value:\", value(model.objective))\n",
        "# Print the values of the decision variables\n",
        "vertex=[]\n",
        "for i,j in new_distances.keys():\n",
        "\n",
        "    if x[(i, j)].varValue>0:\n",
        "      vertex.append((i,j))\n",
        "      print(\"x[{}, {}] = {}\".format(i, j, x[(i, j)].varValue))\n",
        "\n",
        "\n",
        "\n",
        "\n",
        "\n",
        "\n"
      ]
    },
    {
      "cell_type": "code",
      "source": [
        "vertices=[]\n",
        "for key,value in city_key_mapping.items():\n",
        "  vertices.append(value)\n",
        "\n"
      ],
      "metadata": {
        "id": "z11Eu7R7n-wT"
      },
      "execution_count": 23,
      "outputs": []
    },
    {
      "cell_type": "code",
      "source": [
        "edges=[]\n"
      ],
      "metadata": {
        "id": "-WmgitMko8YD"
      },
      "execution_count": 24,
      "outputs": []
    },
    {
      "cell_type": "code",
      "source": [
        "egd=[]\n",
        "egf=[]\n",
        "for j in vertex:\n",
        "  a=j[0]\n",
        "  b=j[1]\n",
        "  for i in range(1,8):\n",
        "    if a==i:\n",
        "      egd.append(vertices[i-1])\n",
        "    if b==i:\n",
        "      egf.append(vertices[i-1])\n"
      ],
      "metadata": {
        "id": "caYnvORUopku"
      },
      "execution_count": 25,
      "outputs": []
    },
    {
      "cell_type": "code",
      "source": [
        "edge=list(zip(egd,egf))"
      ],
      "metadata": {
        "id": "QGf1s86pqcWt"
      },
      "execution_count": 26,
      "outputs": []
    },
    {
      "cell_type": "code",
      "source": [
        "edge"
      ],
      "metadata": {
        "colab": {
          "base_uri": "https://localhost:8080/"
        },
        "id": "wAaD-r9Sq1sN",
        "outputId": "cfa3c9ff-e62c-42aa-d84c-6db72421fd31"
      },
      "execution_count": 27,
      "outputs": [
        {
          "output_type": "execute_result",
          "data": {
            "text/plain": [
              "[('BOMBAY', 'MADRAS'),\n",
              " ('KANPUR', 'DELHI'),\n",
              " ('KHARAGPUR', 'GUWAHATI'),\n",
              " ('DELHI', 'ROORKEE'),\n",
              " ('MADRAS', 'BOMBAY'),\n",
              " ('ROORKEE', 'KANPUR'),\n",
              " ('GUWAHATI', 'KHARAGPUR')]"
            ]
          },
          "metadata": {},
          "execution_count": 27
        }
      ]
    },
    {
      "cell_type": "markdown",
      "source": [
        "Here we can observe that subtours are framing if we are not including the constraints relationg to subtours , here in above graph 3 subtours are made and now we need to imose the constraints related to subtours"
      ],
      "metadata": {
        "id": "sPG-wRWurXgx"
      }
    },
    {
      "cell_type": "code",
      "source": [
        "import networkx as nx\n",
        "import matplotlib.pyplot as plt\n",
        "\n",
        "# Define the vertices\n",
        "\n",
        "# Define the edges as tuples (u, v)\n",
        "edges = edge\n",
        "\n",
        "# Create a graph\n",
        "G = nx.Graph()\n",
        "\n",
        "# Add vertices to the graph\n",
        "G.add_nodes_from(vertices)\n",
        "\n",
        "# Add edges to the graph\n",
        "G.add_edges_from(edges)\n",
        "\n",
        "# Define node positions\n",
        "pos = nx.spring_layout(G, seed=42)  # Positions for all nodes, seed for reproducibility\n",
        "\n",
        "# Draw the graph with better node positioning and labels\n",
        "nx.draw(G, pos, with_labels=True, node_color='skyblue', node_size=1500, edge_color='k', linewidths=1, font_size=15)\n",
        "\n",
        "# Show the graph\n",
        "plt.show()\n"
      ],
      "metadata": {
        "colab": {
          "base_uri": "https://localhost:8080/",
          "height": 516
        },
        "id": "8d_nqWT_5EOh",
        "outputId": "1c16e7eb-f708-4fb6-a9c6-47234b613025"
      },
      "execution_count": 42,
      "outputs": [
        {
          "output_type": "display_data",
          "data": {
            "text/plain": [
              "<Figure size 640x480 with 1 Axes>"
            ],
            "image/png": "[encoded data removed]"
          },
          "metadata": {}
        }
      ]
    },
    {
      "cell_type": "markdown",
      "source": [
        "Here we can observe that subtours are framing if we are not including the constraints relationg to subtours , here in above graph 3 subtours are made and now we need to impose the constraints related to subtours"
      ],
      "metadata": {
        "id": "yzBw5x0C5P_Y"
      }
    },
    {
      "cell_type": "code",
      "source": [
        "#TSP after including the constraints related to subtours\n",
        "#Considering the set S of Cardinality 2 and gradually increasing to get the optimal solution\n",
        "\n",
        "import itertools\n",
        "from pulp import *\n",
        "\n",
        "\n",
        "\n",
        "# Create a new minimization problem\n",
        "model1 = LpProblem(\"TSP Problem\", LpMinimize)\n",
        "\n",
        "# Define the decision variables\n",
        "x1 = LpVariable.dicts(\"x1\", new_distances.keys(), cat=LpBinary)\n",
        "\n",
        "# Define the objective function\n",
        "model1 += lpSum(new_distances[(i, j)] * x1[(i, j)] for i, j in new_distances.keys())\n",
        "\n",
        "# Define the constraints\n",
        "for cit in cities:\n",
        "    model1 += lpSum(x1[(i, j)] for i, j in new_distances.keys() if i == cit) == 1\n",
        "    model1 += lpSum(x1[(i, j)] for i, j in new_distances.keys() if j == cit) == 1\n",
        "\n",
        "# Start and end at Bombay\n",
        "model1 += lpSum(x1[(1, j)] for j in cities if j != 1) == 1  # Outgoing edges from Bombay\n",
        "model1 += lpSum(x1[(i, 1)] for i in cities if i != 1) == 1  # Incoming edges to Bombay\n",
        "\n",
        "# Add constraint: x_ij must equal x_ji\n",
        "\n",
        "\n",
        "# Sub-tour elimination constraints\n",
        "for r in range(2, 3):  # considering subsets of cardinality 2 to 3\n",
        "    for subset in itertools.combinations(cities, r):\n",
        "        edges_out = [(i, j) for i, j in new_distances.keys() if i in subset and j not in subset]\n",
        "        #edges_in = [(i, j) for i, j in new_distances.keys() if i not in subset and j in subset]\n",
        "        model1 += lpSum(x1[edge] for edge in edges_out) >= 1\n",
        "        #model1 += lpSum(x1[edge] for edge in edges_in) >= 1\n",
        "\n",
        "\n",
        "# Solve the problem\n",
        "model1.solve()\n",
        "vertex2=[]\n",
        "for i,j in new_distances.keys():\n",
        "\n",
        "    if x1[(i, j)].varValue>0:\n",
        "      vertex2.append((i,j))\n",
        "      print(\"x[{}, {}] = {}\".format(i, j, x1[(i, j)].varValue))\n",
        "\n",
        "\n",
        "\n",
        "\n"
      ],
      "metadata": {
        "colab": {
          "base_uri": "https://localhost:8080/"
        },
        "id": "Jfb32hX7rozV",
        "outputId": "ca1f50e4-e3fa-4788-8e65-d68de25bf99a"
      },
      "execution_count": 29,
      "outputs": [
        {
          "output_type": "stream",
          "name": "stdout",
          "text": [
            "x[1, 5] = 1.0\n",
            "x[2, 6] = 1.0\n",
            "x[3, 4] = 1.0\n",
            "x[5, 7] = 1.0\n",
            "x[4, 1] = 1.0\n",
            "x[7, 2] = 1.0\n",
            "x[6, 3] = 1.0\n"
          ]
        }
      ]
    },
    {
      "cell_type": "code",
      "source": [
        "egd1=[]\n",
        "egf1=[]\n",
        "for j in vertex2:\n",
        "  a=j[0]\n",
        "  b=j[1]\n",
        "  for i in range(1,8):\n",
        "    if a==i:\n",
        "      egd1.append(vertices[i-1])\n",
        "    if b==i:\n",
        "      egf1.append(vertices[i-1])"
      ],
      "metadata": {
        "id": "yUFNhbe63if3"
      },
      "execution_count": 36,
      "outputs": []
    },
    {
      "cell_type": "code",
      "source": [
        "edge2=list(zip(egd1,egf1))"
      ],
      "metadata": {
        "id": "vazuBVRM3z0O"
      },
      "execution_count": 37,
      "outputs": []
    },
    {
      "cell_type": "code",
      "source": [
        "import networkx as nx\n",
        "import matplotlib.pyplot as plt\n",
        "\n",
        "# Define the vertices\n",
        "vert = vertices\n",
        "\n",
        "# Define the edges as tuples (u, v)\n",
        "edges3 = edge2\n",
        "\n",
        "# Create a directed graph\n",
        "G1 = nx.DiGraph()\n",
        "\n",
        "# Add vertices to the graph\n",
        "G1.add_nodes_from(vert)\n",
        "\n",
        "# Add edges to the graph\n",
        "G1.add_edges_from(edges3)\n",
        "\n",
        "# Ensure BOMBAY is the starting and ending node\n",
        "start_node = \"BOMBAY\"\n",
        "G1.add_edge(start_node, start_node)\n",
        "\n",
        "# Set positions for nodes\n",
        "pos = nx.spring_layout(G1)\n",
        "\n",
        "# Draw the directed graph\n",
        "nx.draw(G1, pos, with_labels=True, node_color='skyblue', node_size=1500, edge_color='k', linewidths=1, font_size=15, arrows=True)\n",
        "\n",
        "# Show the graph\n",
        "plt.show()\n"
      ],
      "metadata": {
        "colab": {
          "base_uri": "https://localhost:8080/",
          "height": 516
        },
        "id": "MYsJrKqE4ire",
        "outputId": "5fcf9ccc-9144-4d23-f955-3728ef1fd138"
      },
      "execution_count": 41,
      "outputs": [
        {
          "output_type": "display_data",
          "data": {
            "text/plain": [
              "<Figure size 640x480 with 1 Axes>"
            ],
            "image/png": "[encoded data removed]"
          },
          "metadata": {}
        }
      ]
    },
    {
      "cell_type": "markdown",
      "source": [
        "Here we can observe that after adding the subtour elimination constraint it is giving us an optimal solution\n",
        "The Shortest such path covering all iits is 1->5->7->2->6->3->4->1"
      ],
      "metadata": {
        "id": "M7mAChY7zaIT"
      }
    },
    {
      "cell_type": "code",
      "source": [
        "path=[1,5,7,2,6,3,4,1]\n",
        "path_with_cities=[]\n",
        "for j in path:\n",
        "  path_with_cities.append(vertices[j-1])"
      ],
      "metadata": {
        "id": "OrZKoS8zzoh4"
      },
      "execution_count": 31,
      "outputs": []
    },
    {
      "cell_type": "code",
      "source": [
        "pt=\"->\".join(path_with_cities)\n",
        "print(f\"The shortest such path covering all cities is {pt} and\\nshortest distance of tour is {value(model1.objective)} kms\")"
      ],
      "metadata": {
        "colab": {
          "base_uri": "https://localhost:8080/"
        },
        "id": "gCHjCwiK0cHu",
        "outputId": "b51417f2-512a-4310-88ff-e62fe272c169"
      },
      "execution_count": 35,
      "outputs": [
        {
          "output_type": "stream",
          "name": "stdout",
          "text": [
            "The shortest such path covering all cities is BOMBAY->DELHI->ROORKEE->KANPUR->GUWAHATI->KHARAGPUR->MADRAS->BOMBAY and\n",
            "shortest distance of tour is 7689.0 kms\n"
          ]
        }
      ]
    },
    {
      "cell_type": "markdown",
      "source": [
        "**Part3**\n",
        "\n",
        "To determine the number of extreme points of the TSP polytope for the given IIT problem with 7 IITs (including the starting point), we need to consider the number of permutations of the remaining 6 cities.\n",
        "\n",
        "Given that we have 6 cities (IITs) to permute, the number of extreme points can be calculated as follows:\n",
        "\n",
        "Number of Extreme Points = (n - 1)!\n",
        "Where:\n",
        "- n is the total number of cities (including the starting city), which is 7 in this case.\n",
        "- (n - 1)! represents the number of permutations of the remaining cities.\n",
        "\n",
        "Substituting n = 7 into the formula:\n",
        "\n",
        "Number of Extreme Points = (7 - 1)!\n",
        "                           = 6!\n",
        "\n",
        "= 6 × 5 × 4 × 3 × 2 × 1\n",
        "= 720\n",
        "\n",
        "Therefore, the TSP polytope of the IIT problem with 7 IITs (including the starting point) will have 720 extreme points.\n"
      ],
      "metadata": {
        "id": "KoIsZMcAn_Gd"
      }
    },
    {
      "cell_type": "markdown",
      "source": [
        "**Part4**"
      ],
      "metadata": {
        "id": "FdpI2eyxpFRD"
      }
    },
    {
      "cell_type": "code",
      "source": [
        "def is_extreme_point(vector, distances):\n",
        "    \"\"\"\n",
        "    Checks if a given 0-1 vector is an extreme point of the TSP feasible region.\n",
        "\n",
        "    Parameters:\n",
        "        vector (list): A 0-1 vector representing the presence or absence of edges.\n",
        "        distances (dict): A dictionary containing distances between cities.\n",
        "\n",
        "    Returns:\n",
        "        str: \"extreme point\" if the vector is an extreme point, \"not an extreme point\" otherwise.\n",
        "    \"\"\"\n",
        "    num_cities = len(vector)\n",
        "\n",
        "    # Check if the vector is feasible (satisfies constraints)\n",
        "    if sum(vector) != num_cities - 1:\n",
        "        return \"not an extreme point\"  # Does not satisfy constraint: Every city is visited once and left once\n",
        "\n",
        "    # Check if removing any edge makes the solution infeasible\n",
        "    for i in range(num_cities):\n",
        "        for j in range(i+1, num_cities):\n",
        "            if vector[i] == 1 and vector[j] == 1:\n",
        "                # Removing edge (i, j) and checking if the resulting vector is feasible\n",
        "                modified_vector = vector[:]\n",
        "                modified_vector[num_cities * i + j] = 0\n",
        "                if sum(modified_vector) != num_cities - 2:\n",
        "                    return \"extreme point\"  # Removing edge (i, j) makes the solution infeasible\n",
        "\n",
        "    return \"not an extreme point\""
      ],
      "metadata": {
        "id": "sSf7CwFy0knP"
      },
      "execution_count": 23,
      "outputs": []
    }
  ],
  "metadata": {
    "colab": {
      "provenance": []
    },
    "kernelspec": {
      "display_name": "Python 3",
      "name": "python3"
    },
    "language_info": {
      "name": "python"
    }
  },
  "nbformat": 4,
  "nbformat_minor": 0
}