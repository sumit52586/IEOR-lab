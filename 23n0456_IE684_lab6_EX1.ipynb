{
  "nbformat": 4,
  "nbformat_minor": 0,
  "metadata": {
    "colab": {
      "provenance": []
    },
    "kernelspec": {
      "name": "python3",
      "display_name": "Python 3"
    },
    "language_info": {
      "name": "python"
    }
  },
  "cells": [
    {
      "cell_type": "markdown",
      "source": [
        "# Answer 1"
      ],
      "metadata": {
        "id": "39746QaNjKDF"
      }
    },
    {
      "cell_type": "code",
      "execution_count": null,
      "metadata": {
        "colab": {
          "base_uri": "https://localhost:8080/"
        },
        "id": "TiGoYRd-1Jzp",
        "outputId": "d72fbd87-2390-4bc6-a568-b59e5d34ebaf"
      },
      "outputs": [
        {
          "output_type": "stream",
          "name": "stdout",
          "text": [
            "(1797, 64)\n",
            "(1797,)\n"
          ]
        },
        {
          "output_type": "execute_result",
          "data": {
            "text/plain": [
              "(1797, 1)"
            ]
          },
          "metadata": {},
          "execution_count": 61
        }
      ],
      "source": [
        "import numpy as np\n",
        "from sklearn . datasets import load_digits\n",
        "digits = load_digits ()\n",
        "# check the shape of digits data\n",
        "print ( digits . data . shape )\n",
        "# check the shape of digits target\n",
        "print ( digits . target . shape )\n",
        "#let us use the linear regression used in the previous lab\n",
        "#N = digits . data . shape [0] # Number of data points\n",
        "#d = digits . data . shape [1] # Dimension of data points\n",
        "A = digits . data\n",
        "#In the following code , we create a NX1 vector of target labels\n",
        "y = 1.0* np . ones ([ A . shape [0] ,1])\n",
        "for i in range ( digits . target . shape [0]) :\n",
        " y[ i ] = digits . target [ i ]\n",
        "y.shape"
      ]
    },
    {
      "cell_type": "code",
      "source": [
        "A=digits.data\n",
        "A.shape"
      ],
      "metadata": {
        "colab": {
          "base_uri": "https://localhost:8080/"
        },
        "id": "Rw0sV9gn1ub7",
        "outputId": "ba462a4d-d92b-4377-9c19-c4d5210b5bcd"
      },
      "execution_count": null,
      "outputs": [
        {
          "output_type": "execute_result",
          "data": {
            "text/plain": [
              "(1797, 64)"
            ]
          },
          "metadata": {},
          "execution_count": 62
        }
      ]
    },
    {
      "cell_type": "code",
      "source": [
        "digits.data.shape"
      ],
      "metadata": {
        "colab": {
          "base_uri": "https://localhost:8080/"
        },
        "id": "Y8jDTyyt2EHV",
        "outputId": "8b9fff96-9a22-41b7-cc74-8209eba80245"
      },
      "execution_count": null,
      "outputs": [
        {
          "output_type": "execute_result",
          "data": {
            "text/plain": [
              "(1797, 64)"
            ]
          },
          "metadata": {},
          "execution_count": 63
        }
      ]
    },
    {
      "cell_type": "code",
      "source": [
        "import numpy as np\n",
        "\n",
        "def objective_function(x, A, y):\n",
        "    return 0.5 * np.linalg.norm(A.dot(x) - y)**2\n",
        "\n",
        "def gradient(x, A, y):\n",
        "    return A.T.dot(A.dot(x) - y)\n",
        "\n",
        "def hessian(A):\n",
        "    return A.T.dot(A)\n",
        "\n",
        "def newton_method(A, y, x0, tol=1e-6):\n",
        "    x = x0\n",
        "    while True:\n",
        "        grad = gradient(x, A, y)\n",
        "        hess = hessian(A)\n",
        "        try:\n",
        "            hess_inv = np.linalg.inv(hess)\n",
        "        except np.linalg.LinAlgError:\n",
        "            print(\"Warning: Hessian matrix is singular. Newton's method cannot proceed.\")\n",
        "            return None\n",
        "        step = hess_inv.dot(grad)\n",
        "        x -= step\n",
        "        if np.linalg.norm(step) < tol:\n",
        "            break\n",
        "    return x\n",
        "\n",
        "# Example usage\n",
        "\n",
        "x0 = np.zeros(A.shape[1])  # Starting point\n",
        "\n",
        "solution = newton_method(A, y, x0)\n",
        "if solution is not None:\n",
        "    print(\"Solution:\", solution)\n",
        "    print(\"Objective function value at solution:\", objective_function(solution, A, y))\n",
        "else:\n",
        "    print(\"Newton's method failed due to singularity of the Hessian matrix.\")\n",
        "\n"
      ],
      "metadata": {
        "colab": {
          "base_uri": "https://localhost:8080/"
        },
        "id": "038ElXHw2c3N",
        "outputId": "7d98dfd9-a528-4a50-a229-09dbe6d824c2"
      },
      "execution_count": null,
      "outputs": [
        {
          "output_type": "stream",
          "name": "stdout",
          "text": [
            "Warning: Hessian matrix is singular. Newton's method cannot proceed.\n",
            "Newton's method failed due to singularity of the Hessian matrix.\n"
          ]
        }
      ]
    },
    {
      "cell_type": "code",
      "source": [
        "x0 = np.zeros(A.shape[1]).reshape(64,1)\n",
        "\n"
      ],
      "metadata": {
        "id": "ZEruXFId9DqA"
      },
      "execution_count": null,
      "outputs": []
    },
    {
      "cell_type": "code",
      "source": [
        "import numpy as np\n",
        "\n",
        "def regularized_objective_function(x, A, y, lam):\n",
        "    return 0.5 * lam * np.dot(x.T, x) + 0.5 * np.linalg.norm(A.dot(x) - y)**2\n",
        "\n",
        "def regularized_gradient(x, A, y, lam):\n",
        "    return lam * x + A.T.dot(A.dot(x) - y)\n",
        "\n",
        "def regularized_hessian(A, lam):\n",
        "    return lam * np.eye(A.shape[1]) + A.T.dot(A)\n",
        "\n",
        "def newton_method_regularized(A, y, x0, lam, tol=1e-6):\n",
        "    x = x0\n",
        "    while True:\n",
        "        grad = regularized_gradient(x, A, y, lam)\n",
        "        hess = regularized_hessian(A, lam)\n",
        "        hess_inv = np.linalg.inv(hess)\n",
        "        step = hess_inv.dot(grad)\n",
        "        x -= step\n",
        "        if np.linalg.norm(step) < tol:\n",
        "            break\n",
        "    return x\n",
        "\n",
        "# Example usage\n",
        "\n",
        "x0 = np.zeros(A.shape[1]).reshape(64,1)  # Starting point\n",
        "lam = 0.001  # Regularization parameter\n",
        "\n",
        "solution_regularized = newton_method_regularized(A, y, x0, lam)\n",
        "\n",
        "print(\"Solution for regularized problem (lambda = 0.001):\", solution_regularized)\n",
        "print(\"Objective function value at solution (regularized):\", regularized_objective_function(solution_regularized, A, y, lam))\n"
      ],
      "metadata": {
        "colab": {
          "base_uri": "https://localhost:8080/"
        },
        "id": "2WITTDei9G-d",
        "outputId": "dbe5443f-5efe-4abe-af9a-811179ccca62"
      },
      "execution_count": null,
      "outputs": [
        {
          "output_type": "stream",
          "name": "stdout",
          "text": [
            "Solution for regularized problem (lambda = 0.001): [[ 0.00000000e+00]\n",
            " [ 9.69076882e-02]\n",
            " [-4.32192762e-03]\n",
            " [-7.75916338e-03]\n",
            " [ 7.49591987e-02]\n",
            " [ 1.13946582e-02]\n",
            " [-2.71293921e-02]\n",
            " [-7.34410664e-03]\n",
            " [ 9.98267907e-01]\n",
            " [-2.88089376e-02]\n",
            " [ 1.18688356e-01]\n",
            " [ 6.60922719e-02]\n",
            " [-5.57075915e-02]\n",
            " [-6.97056149e-02]\n",
            " [ 9.65844014e-02]\n",
            " [ 2.55196013e-01]\n",
            " [-7.29830665e-01]\n",
            " [ 2.42711745e-02]\n",
            " [ 7.73241544e-02]\n",
            " [-2.33008498e-02]\n",
            " [-5.64077619e-02]\n",
            " [ 5.72413971e-02]\n",
            " [-4.88675248e-02]\n",
            " [-2.62555998e-01]\n",
            " [-9.06071169e-01]\n",
            " [-1.49769638e-01]\n",
            " [ 5.64022790e-02]\n",
            " [ 8.96665319e-02]\n",
            " [ 8.39315938e-02]\n",
            " [ 9.85410047e-02]\n",
            " [ 1.69269848e-03]\n",
            " [-2.96649688e+00]\n",
            " [ 0.00000000e+00]\n",
            " [-1.54361470e-01]\n",
            " [-9.32404640e-03]\n",
            " [ 1.39497978e-01]\n",
            " [-3.69237437e-02]\n",
            " [ 5.46111773e-02]\n",
            " [-9.20425586e-03]\n",
            " [ 0.00000000e+00]\n",
            " [ 1.03326506e-01]\n",
            " [ 1.23983484e-01]\n",
            " [-1.37635230e-02]\n",
            " [ 5.40029021e-03]\n",
            " [ 1.31185700e-01]\n",
            " [ 5.49577815e-02]\n",
            " [ 2.24935899e-02]\n",
            " [ 7.48046265e-03]\n",
            " [ 6.17507773e-01]\n",
            " [ 2.44100619e-02]\n",
            " [ 1.42356436e-03]\n",
            " [-6.21114801e-02]\n",
            " [-2.07024631e-01]\n",
            " [-3.38510517e-02]\n",
            " [ 1.05486785e-01]\n",
            " [-1.40336482e-01]\n",
            " [-9.82347827e-01]\n",
            " [-1.14473639e-01]\n",
            " [ 2.10485229e-02]\n",
            " [-4.36083412e-02]\n",
            " [ 1.87372531e-02]\n",
            " [-6.66562217e-02]\n",
            " [ 1.19384465e-02]\n",
            " [-5.27782515e-02]]\n",
            "Objective function value at solution (regularized): [[3064.45418816]]\n"
          ]
        }
      ]
    },
    {
      "cell_type": "markdown",
      "source": [
        "#Answer 2"
      ],
      "metadata": {
        "id": "cR7pDBWQjODQ"
      }
    },
    {
      "cell_type": "code",
      "source": [
        "import numpy as np\n",
        "\n",
        "def objective_function(x, A, y):\n",
        "    return 0.5 * np.linalg.norm(A.dot(x) - y)**2\n",
        "\n",
        "def gradient(x, A, y):\n",
        "    return A.T.dot(A.dot(x) - y)\n",
        "\n",
        "def backtracking_line_search(f, gradient, x, step_direction, alpha=0.3, beta=0.5):\n",
        "    t = 1.0  # Initial step length\n",
        "    while f(x + t * step_direction,A,y) > f(x,A,y) + alpha * t * np.dot(gradient.T,step_direction):\n",
        "        t *= beta  # Shrink the step length\n",
        "    return t\n",
        "\n",
        "def bfgs_method_backtracking_line_search(A, y, x_initial, tol=1e-6, max_iter=1000):\n",
        "    n = len(x_initial)\n",
        "    H = np.eye(n)  # Initialize Hessian approximation as identity matrix\n",
        "    x = x_initial.copy()\n",
        "    for _ in range(max_iter):\n",
        "        grad = gradient(x, A, y)\n",
        "        try:\n",
        "            step_direction = np.linalg.solve(H, -grad)\n",
        "        except np.linalg.LinAlgError:\n",
        "            # If Hessian is singular, use pseudoinverse instead\n",
        "            step_direction = np.linalg.pinv(H) @ (-grad)\n",
        "        t = backtracking_line_search(objective_function, grad, x, step_direction)  # Line search\n",
        "        x_new = x + t * step_direction\n",
        "        s = x_new - x\n",
        "        y_diff = gradient(x_new, A, y) - grad\n",
        "        rho = 1 / np.dot(y_diff.T, s)\n",
        "        H = (np.eye(n) - rho * np.dot(s, y_diff.T)) @ H @ (np.eye(n) - rho * np.dot(y_diff, s.T)) + rho * np.dot(s, s.T)\n",
        "        x = x_new\n",
        "        if np.linalg.norm(step_direction) < tol:\n",
        "            break\n",
        "    return x\n",
        "\n",
        "# Example vector y (labels)\n",
        "x_initial = np.zeros((64, 1))  # Starting point\n",
        "\n",
        "solution_unregularized_bfgs_ls = bfgs_method_backtracking_line_search(A, y, x_initial)\n",
        "\n",
        "print(\"Solution for unregularized problem using BFGS method with backtracking line search:\", solution_unregularized_bfgs_ls)\n",
        "print(\"Objective function value at solution (unregularized):\", objective_function(solution_unregularized_bfgs_ls, A, y))\n",
        "\n",
        "\n"
      ],
      "metadata": {
        "colab": {
          "base_uri": "https://localhost:8080/"
        },
        "id": "pR-NwCCzGC9c",
        "outputId": "61d2034b-9b9f-4ac0-c5f1-6e3b61dff08f"
      },
      "execution_count": null,
      "outputs": [
        {
          "output_type": "stream",
          "name": "stdout",
          "text": [
            "Solution for unregularized problem using BFGS method with backtracking line search: [[0.00000000e+00]\n",
            " [4.53763941e-04]\n",
            " [8.66668948e-03]\n",
            " [1.97992411e-02]\n",
            " [2.04085079e-02]\n",
            " [1.10475566e-02]\n",
            " [3.09905723e-03]\n",
            " [3.48657481e-04]\n",
            " [1.16574586e-05]\n",
            " [3.29788654e-03]\n",
            " [1.82130287e-02]\n",
            " [1.94693664e-02]\n",
            " [1.57987006e-02]\n",
            " [1.42696418e-02]\n",
            " [4.02708055e-03]\n",
            " [2.65748297e-04]\n",
            " [2.93350722e-06]\n",
            " [4.24763887e-03]\n",
            " [1.72835156e-02]\n",
            " [1.07184884e-02]\n",
            " [1.08659930e-02]\n",
            " [1.39466850e-02]\n",
            " [3.32685916e-03]\n",
            " [9.89098835e-05]\n",
            " [9.29696098e-07]\n",
            " [3.49758233e-03]\n",
            " [1.58097449e-02]\n",
            " [1.67609012e-02]\n",
            " [1.83971849e-02]\n",
            " [1.42296884e-02]\n",
            " [3.83701286e-03]\n",
            " [3.27805491e-06]\n",
            " [0.00000000e+00]\n",
            " [2.98254025e-03]\n",
            " [1.28115833e-02]\n",
            " [1.72392629e-02]\n",
            " [1.84499691e-02]\n",
            " [1.58484709e-02]\n",
            " [4.86580462e-03]\n",
            " [0.00000000e+00]\n",
            " [1.31751362e-05]\n",
            " [2.16214147e-03]\n",
            " [1.05542381e-02]\n",
            " [1.20714648e-02]\n",
            " [1.26843842e-02]\n",
            " [1.39112958e-02]\n",
            " [6.13167896e-03]\n",
            " [6.31182474e-05]\n",
            " [9.26507356e-06]\n",
            " [1.09920030e-03]\n",
            " [1.15969702e-02]\n",
            " [1.48351692e-02]\n",
            " [1.32463761e-02]\n",
            " [1.32813325e-02]\n",
            " [6.42265484e-03]\n",
            " [2.28179127e-04]\n",
            " [3.43885566e-07]\n",
            " [4.08603781e-04]\n",
            " [9.36813688e-03]\n",
            " [2.01790697e-02]\n",
            " [1.86327100e-02]\n",
            " [1.07871188e-02]\n",
            " [2.91254077e-03]\n",
            " [2.01495193e-04]]\n",
            "Objective function value at solution (unregularized): 7339.484306797126\n"
          ]
        }
      ]
    },
    {
      "cell_type": "markdown",
      "source": [
        "The difficulty arises while solving unregularized version is that while computing the solution for Hx =-grad inverse ofmatrix does not exist so in that case i have used the Moore-Penrose pseudoinverse of the Hessian matrix, denoted as\n",
        "\n",
        "H\n",
        "+\n",
        " , to compute the step direction. The Moore-Penrose pseudoinverse can handle singular or nearly singular matrices and provide a solution that minimizes the Euclidean norm of the solution.\n",
        "\n"
      ],
      "metadata": {
        "id": "vPHWcvqMYxSY"
      }
    },
    {
      "cell_type": "code",
      "source": [
        "def regularized_objective_function(x, A, y, lam):\n",
        "    return 0.5 * lam * np.dot(x.T, x) + 0.5 * np.linalg.norm(A.dot(x) - y)**2\n",
        "\n",
        "def regularized_gradient(x, A, y, lam):\n",
        "    return lam * x + A.T.dot(A.dot(x) - y)\n",
        "\n",
        "def regularized_hessian(A, lam):\n",
        "    return lam * np.eye(A.shape[1]) + A.T.dot(A)\n",
        "def backtracking_line_search_regularized(f, gradient, x, step_direction, alpha=0.3, beta=0.5):\n",
        "    t = 1.0  # Initial step length\n",
        "    while f(x + t * step_direction,A,y,lam) > f(x,A,y,lam) + alpha * t * np.dot(gradient.T,step_direction):\n",
        "        t *= beta  # Shrink the step length\n",
        "    return t\n",
        "def bfgs_method_backtracking_line_search_regularized(A, y, x_initial, lam, tol=1e-6, max_iter=1000):\n",
        "    n = len(x_initial)\n",
        "    H = regularized_hessian(A, lam)  # Initialize Hessian approximation as identity matrix\n",
        "    x = x_initial.copy()\n",
        "    for _ in range(max_iter):\n",
        "        grad = regularized_gradient(x, A, y,lam)\n",
        "        try:\n",
        "            step_direction = np.linalg.solve(H, -grad)\n",
        "        except np.linalg.LinAlgError:\n",
        "            # If Hessian is singular, use pseudoinverse instead\n",
        "            step_direction = np.linalg.pinv(H) @ (-grad)\n",
        "        t = backtracking_line_search_regularized(regularized_objective_function, grad, x, step_direction)  # Line search\n",
        "        x_new = x + t * step_direction\n",
        "        s = x_new - x\n",
        "        y_diff = gradient(x_new, A, y) - grad\n",
        "        rho = 1 / np.dot(y_diff.T, s)\n",
        "        H = (np.eye(n) - rho * np.dot(s, y_diff.T)) @ H @ (np.eye(n) - rho * np.dot(y_diff, s.T)) + rho * np.dot(s, s.T)\n",
        "        x = x_new\n",
        "        if np.linalg.norm(step_direction) < tol:\n",
        "            break\n",
        "    return x\n",
        "x_initial = np.zeros((64, 1))  # Starting point\n",
        "lam1=0.001\n",
        "\n",
        "solution_regularized_bfgs_ls = bfgs_method_backtracking_line_search_regularized(A, y, x_initial,lam1)\n",
        "print(\"Solution for regularized problem using BFGS method with backtracking line search:\", solution_regularized_bfgs_ls)\n",
        "print(\"Objective function value at solution (unregularized):\", regularized_objective_function(solution_regularized_bfgs_ls, A, y,lam1))"
      ],
      "metadata": {
        "colab": {
          "base_uri": "https://localhost:8080/"
        },
        "id": "7lfzdLicVuvE",
        "outputId": "856cd9c5-0620-4b65-9b21-70e5e148cb71"
      },
      "execution_count": null,
      "outputs": [
        {
          "output_type": "stream",
          "name": "stdout",
          "text": [
            "Solution for regularized problem using BFGS method with backtracking line search: [[ 0.00000000e+00]\n",
            " [ 9.69076887e-02]\n",
            " [-4.32192766e-03]\n",
            " [-7.75916338e-03]\n",
            " [ 7.49591987e-02]\n",
            " [ 1.13946582e-02]\n",
            " [-2.71293921e-02]\n",
            " [-7.34410673e-03]\n",
            " [ 9.98267909e-01]\n",
            " [-2.88089377e-02]\n",
            " [ 1.18688356e-01]\n",
            " [ 6.60922719e-02]\n",
            " [-5.57075915e-02]\n",
            " [-6.97056150e-02]\n",
            " [ 9.65844014e-02]\n",
            " [ 2.55196013e-01]\n",
            " [-7.29830667e-01]\n",
            " [ 2.42711745e-02]\n",
            " [ 7.73241544e-02]\n",
            " [-2.33008498e-02]\n",
            " [-5.64077619e-02]\n",
            " [ 5.72413971e-02]\n",
            " [-4.88675249e-02]\n",
            " [-2.62555997e-01]\n",
            " [-9.06071169e-01]\n",
            " [-1.49769638e-01]\n",
            " [ 5.64022790e-02]\n",
            " [ 8.96665319e-02]\n",
            " [ 8.39315938e-02]\n",
            " [ 9.85410048e-02]\n",
            " [ 1.69269846e-03]\n",
            " [-2.96649688e+00]\n",
            " [ 0.00000000e+00]\n",
            " [-1.54361470e-01]\n",
            " [-9.32404641e-03]\n",
            " [ 1.39497978e-01]\n",
            " [-3.69237437e-02]\n",
            " [ 5.46111773e-02]\n",
            " [-9.20425589e-03]\n",
            " [ 0.00000000e+00]\n",
            " [ 1.03326504e-01]\n",
            " [ 1.23983484e-01]\n",
            " [-1.37635230e-02]\n",
            " [ 5.40029022e-03]\n",
            " [ 1.31185700e-01]\n",
            " [ 5.49577815e-02]\n",
            " [ 2.24935899e-02]\n",
            " [ 7.48046335e-03]\n",
            " [ 6.17507775e-01]\n",
            " [ 2.44100619e-02]\n",
            " [ 1.42356437e-03]\n",
            " [-6.21114802e-02]\n",
            " [-2.07024631e-01]\n",
            " [-3.38510517e-02]\n",
            " [ 1.05486785e-01]\n",
            " [-1.40336482e-01]\n",
            " [-9.82347826e-01]\n",
            " [-1.14473640e-01]\n",
            " [ 2.10485229e-02]\n",
            " [-4.36083412e-02]\n",
            " [ 1.87372530e-02]\n",
            " [-6.66562217e-02]\n",
            " [ 1.19384465e-02]\n",
            " [-5.27782515e-02]]\n",
            "Objective function value at solution (unregularized): [[3064.45418816]]\n"
          ]
        }
      ]
    }
  ]
}