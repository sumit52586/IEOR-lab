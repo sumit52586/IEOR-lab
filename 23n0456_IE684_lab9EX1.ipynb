{
  "nbformat": 4,
  "nbformat_minor": 0,
  "metadata": {
    "colab": {
      "provenance": []
    },
    "kernelspec": {
      "name": "python3",
      "display_name": "Python 3"
    },
    "language_info": {
      "name": "python"
    }
  },
  "cells": [
    {
      "cell_type": "markdown",
      "source": [
        "#EXercise 1\n",
        "## Integer Programming Formulation\n",
        "\n",
        "**Objective:**\n",
        "Minimize\n",
        "$$ \\sum_{i=1}^{n} x_i $$\n",
        "\n",
        "**Constraints:**\n",
        "$$ \\sum_{i=1}^{n} (t_{ij} \\cdot x_i) \\leq 25, \\quad \\forall j=1,2,...,n $$\n",
        "\n",
        "$$ \\sum_{j=1}^{n} (t_{ij} \\cdot x_j) \\leq 25, \\quad \\forall i=1,2,...,n $$\n",
        "\n",
        "**Binary Decision Variables:**\n",
        "$$ x_i \\in \\{0,1\\}, \\quad \\forall i=1,2,...,n $$\n",
        "\n",
        "## Set Cover Problem Argument\n",
        "\n",
        "In this problem, each location represents an element that needs to be covered, and the sets correspond to the possible locations where fire stations can be built. The driving time constraint acts as the requirement that each element (location) must be covered by at least one set (fire station) within 25 minutes. Therefore, this problem can be seen as a set cover problem, where the objective is to minimize the number of sets (fire stations) needed to cover all elements (locations).\n"
      ],
      "metadata": {
        "id": "LesYj8UPJPL_"
      }
    },
    {
      "cell_type": "code",
      "source": [
        "# Greedy Algorithm\n",
        "def greedy_set_cover(subsets, universe):\n",
        "    \"\"\"\n",
        "    Greedy set cover algorithm implementation.\n",
        "\n",
        "    Args:\n",
        "    - subsets: List of sets representing the subsets (S1, S2, ..., Sm).\n",
        "    - universe: Set representing the universal set (U).\n",
        "\n",
        "    Returns:\n",
        "    - picked_sets: List of picked sets (Si) by the algorithm.\n",
        "    \"\"\"\n",
        "    picked_sets = []\n",
        "    covered_elements = set()\n",
        "\n",
        "    while covered_elements != universe:\n",
        "        max_new_elements = 0\n",
        "        best_set = None\n",
        "\n",
        "        for subset in subsets:\n",
        "            new_elements = len(subset - covered_elements)\n",
        "            if new_elements > max_new_elements:\n",
        "                max_new_elements = new_elements\n",
        "                best_set = subset\n",
        "\n",
        "        if best_set:\n",
        "            picked_sets.append(best_set)\n",
        "            covered_elements |= best_set\n",
        "\n",
        "    return picked_sets\n",
        "\n",
        "\n",
        "\n"
      ],
      "metadata": {
        "id": "fi5KDG-8Pie8"
      },
      "execution_count": null,
      "outputs": []
    },
    {
      "cell_type": "markdown",
      "source": [
        "##Set cover:\n",
        "Above given problem can be considered as the set cover problem like we can take universe as the collection of all the locations and collection of subsets will be corrosponding to each location such that for the ith location the set will be all the locations that lie within 25 minutes of the distance from that location\n",
        "We will feed that collecttion of subsets (containing sets coorosponding to each location) and collection of all location to our greedy algorithm And algorithm will give all those subsets that unites to form the collection and total number of such subsets is the minimum number of fire stations needed to be installed at particular locations"
      ],
      "metadata": {
        "id": "91ZLuk1RuqUY"
      }
    },
    {
      "cell_type": "code",
      "execution_count": null,
      "metadata": {
        "colab": {
          "base_uri": "https://localhost:8080/"
        },
        "id": "3M0IkuXLCEBx",
        "outputId": "7551c685-6334-4586-a0db-abf4f797f82c"
      },
      "outputs": [
        {
          "output_type": "stream",
          "name": "stdout",
          "text": [
            "The minimum number of fire stations that can be placed to ensure that there is a firestation\n",
            " with at least 25 minutes of driving time are 3\n",
            "The 1th fire station can be placed at C location\n",
            "The 2th fire station can be placed at D location\n",
            "The 3th fire station can be placed at G location\n"
          ]
        }
      ],
      "source": [
        "Collection_of_subsets=[{\"A\",'B','C','H'},{\"B\",\"D\"},{'C','H'},{\"D\",\"E\"},{\"E\",\"G\"},{\"F\",\"G\"}]\n",
        "Universe={\"A\",\"B\",\"C\",\"D\",\"E\",\"F\",\"G\",\"H\"}\n",
        "# getting the feasible locations where fire stations can be placed\n",
        "sol=greedy_set_cover(Collection_of_subsets,Universe)\n",
        "print(f\"The minimum number of fire stations that can be placed to ensure that there is a firestation\\n with at least 25 minutes of driving time are {len(sol)}\")\n",
        "# prinitng the locations where these stations can be placed\n",
        "sol2=[]\n",
        "for i in sol:\n",
        "  a=list(i)\n",
        "  sol2.append(a)\n",
        "for i in range(len(sol)):\n",
        "  a=sol2[i][0]\n",
        "  print(f\"The {i+1}th fire station can be placed at {a} location\")\n",
        "\n",
        "\n",
        "\n",
        "\n"
      ]
    },
    {
      "cell_type": "markdown",
      "source": [
        "**part3**\n",
        "\n",
        "No, greedy algorithms do not always give the exact optimal solution. Greedy algorithms make locally optimal choices at each step with the hope that these choices will lead to a global optimal solution. However, there are many cases where a greedy algorithm fails to find the optimal solution.\n",
        "\n",
        "One common reason for a greedy algorithm to fail is that it may make a choice that seems best at the current step but leads to a suboptimal solution in the long run. In other words, greedy algorithms may be short-sighted and not consider the consequences of their choices on future steps.\n",
        "\n",
        "Additionally, certain problems are known to be inherently non-greedy, meaning that a greedy approach cannot guarantee an optimal solution. For such problems, more sophisticated algorithms or techniques are required to find the optimal solution.\n",
        "\n",
        "However, greedy algorithms can be very efficient and provide good approximations for many optimization problems. They are often used when finding the exact optimal solution is too computationally expensive or impractical."
      ],
      "metadata": {
        "id": "WG68YZOIGSpz"
      }
    },
    {
      "cell_type": "markdown",
      "source": [
        "## Part4\n",
        "When the minimum driving time changes to 20 minutes then our feasible collection of sets will be changed which in turn leads to a new solution"
      ],
      "metadata": {
        "id": "hZjsamqE-BOy"
      }
    },
    {
      "cell_type": "code",
      "source": [
        "# Possibble collection of subsets when driving time threshholds to 20 minutes\n",
        "coll_of_subsets=[{\"A\",\"B\"},{\"B\",\"D\"},{\"C\",\"H\"},{\"E\",\"G\"},{\"F\",\"G\"}]\n",
        "# Implementing the greedy algorithmto fetch a solution\n",
        "sol_20=greedy_set_cover(coll_of_subsets,Universe)\n",
        "print(f\"The minimum number of fire stations that can be placed to ensure that there is a firestation\\n with at least 20 minutes of driving time are {len(sol_20)}\")\n",
        "# prinitng the locations where these stations can be placed\n",
        "sol3=[]\n",
        "for i in sol_20:\n",
        "  a=list(i)\n",
        "  sol3.append(a)\n",
        "for i in range(len(sol_20)):\n",
        "  a=sol3[i][0]\n",
        "  print(f\"The {i+1}th fire station can be placed at {a} location\")\n",
        "\n"
      ],
      "metadata": {
        "colab": {
          "base_uri": "https://localhost:8080/"
        },
        "id": "UzRL7NCSCS3s",
        "outputId": "42d624fe-fa71-4bd4-d3d7-2a50314280c5"
      },
      "execution_count": null,
      "outputs": [
        {
          "output_type": "stream",
          "name": "stdout",
          "text": [
            "The minimum number of fire stations that can be placed to ensure that there is a firestation\n",
            " with at least 20 minutes of driving time are 5\n",
            "The 1th fire station can be placed at A location\n",
            "The 2th fire station can be placed at H location\n",
            "The 3th fire station can be placed at E location\n",
            "The 4th fire station can be placed at D location\n",
            "The 5th fire station can be placed at G location\n"
          ]
        }
      ]
    },
    {
      "cell_type": "markdown",
      "source": [
        "## *part5*\n",
        "when It is decided that there has to be fire station at location 6 (F) Then we will check the feasible set formed with respect to loccation 6 that is how many of locations it can cover Then we will delete all those locations along with 6 from the Universe to get an updated universe. Then as per the new Universe we will check the collection of Subsets with respect to each location in the updated universe Then apply greedy algorithm to obtain a new feasible solution(which in turns gives us how more number of firestations need to be installed in order to cover all the locations)  "
      ],
      "metadata": {
        "id": "yCTSCrBFARnd"
      }
    },
    {
      "cell_type": "code",
      "source": [
        "# Thus in the updated Universe we can remove location 6\n",
        "upd_universe=list(Universe)\n",
        "upd_universe.remove(\"F\")\n",
        "Universe2=set(upd_universe)\n",
        "#updated collection of sets are\n",
        "coll_of_subsets2=[{\"A\",\"B\"},{\"B\",\"D\"},{\"C\",\"H\"},{\"E\",\"G\"}]\n",
        "#Implementing te greedy algorithm\n",
        "sol4=greedy_set_cover(coll_of_subsets2,Universe2)\n",
        "print(f\"The minimum number of firestations needed When a firestation is already at location F are {len(sol4)}\")\n",
        "# prinitng the locations where these stations can be placed\n",
        "sol5=[]\n",
        "for i in sol4:\n",
        "  b=list(i)\n",
        "  sol5.append(b)\n",
        "for i in range(len(sol4)):\n",
        "  c=sol5[i][0]\n",
        "  print(f\"The {i+1}th fire station can be placed at {c} location\")\n",
        "\n"
      ],
      "metadata": {
        "colab": {
          "base_uri": "https://localhost:8080/"
        },
        "id": "_cNAjTgrCW72",
        "outputId": "5ec1bfb3-9d9a-43ec-e900-d5578d42f978"
      },
      "execution_count": null,
      "outputs": [
        {
          "output_type": "stream",
          "name": "stdout",
          "text": [
            "The minimum number of firestations needed When a firestation is already at location F are 4\n",
            "The 1th fire station can be placed at A location\n",
            "The 2th fire station can be placed at H location\n",
            "The 3th fire station can be placed at E location\n",
            "The 4th fire station can be placed at D location\n"
          ]
        }
      ]
    }
  ]
}